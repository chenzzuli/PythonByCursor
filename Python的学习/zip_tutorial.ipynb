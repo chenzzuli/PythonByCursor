{
  "cells": [
    {
      "cell_type": "raw",
      "metadata": {
        "vscode": {
          "languageId": "raw"
        }
      },
      "source": [
        "# Python zip() 函数教程\n",
        "\n",
        "`zip()` 函数是 Python 的一个内置函数，用于将多个可迭代对象（如列表、元组等）打包成一个元组的迭代器。它的主要用途是同时遍历多个序列。\n"
      ]
    },
    {
      "cell_type": "code",
      "execution_count": null,
      "metadata": {},
      "outputs": [],
      "source": [
        "# 1. 基本用法：将两个列表打包在一起\n",
        "names = [\"Alice\", \"Bob\", \"Charlie\"]\n",
        "ages = [24, 30, 35]\n",
        "# zip()返回一个迭代器，转换为列表查看结果\n",
        "zipped = list(zip(names, ages))\n",
        "print(\"打包后的结果:\", zipped)\n",
        "\n",
        "# 遍历打包后的结果\n",
        "print(\"\\n遍历打包结果:\")\n",
        "for name, age in zip(names, ages):\n",
        "    print(f\"{name} is {age} years old\")\n"
      ]
    },
    {
      "cell_type": "code",
      "execution_count": null,
      "metadata": {},
      "outputs": [],
      "source": [
        "# 2. 处理不等长序列\n",
        "names = [\"Alice\", \"Bob\", \"Charlie\", \"David\"]\n",
        "ages = [24, 30, 35]  # 比names短\n",
        "\n",
        "# zip()会以最短的序列为准\n",
        "print(\"不等长序列的zip结果:\")\n",
        "for name, age in zip(names, ages):\n",
        "    print(f\"{name} is {age} years old\")\n",
        "\n",
        "# 如果想要保留较长序列的元素，可以使用itertools.zip_longest\n",
        "from itertools import zip_longest\n",
        "print(\"\\n使用zip_longest的结果:\")\n",
        "for name, age in zip_longest(names, ages, fillvalue=\"Unknown\"):\n",
        "    print(f\"{name} is {age} years old\")\n"
      ]
    },
    {
      "cell_type": "code",
      "execution_count": null,
      "metadata": {},
      "outputs": [],
      "source": [
        "# 3. zip()的解包操作\n",
        "# 创建一个包含元组的列表\n",
        "pairs = [(\"Alice\", 24), (\"Bob\", 30), (\"Charlie\", 35)]\n",
        "\n",
        "# 使用zip(*pairs)解包\n",
        "names, ages = zip(*pairs)\n",
        "print(\"解包后的names:\", names)\n",
        "print(\"解包后的ages:\", ages)\n"
      ]
    },
    {
      "cell_type": "code",
      "execution_count": null,
      "metadata": {},
      "outputs": [],
      "source": [
        "# 4. 实际应用示例：创建字典\n",
        "names = [\"Alice\", \"Bob\", \"Charlie\"]\n",
        "ages = [24, 30, 35]\n",
        "\n",
        "# 使用zip创建字典\n",
        "person_dict = dict(zip(names, ages))\n",
        "print(\"创建的字典:\", person_dict)\n",
        "\n",
        "# 并行排序\n",
        "names = [\"Charlie\", \"Alice\", \"Bob\"]\n",
        "ages = [35, 24, 30]\n",
        "\n",
        "# 根据名字排序\n",
        "sorted_pairs = sorted(zip(names, ages))\n",
        "print(\"\\n排序后的结果:\", sorted_pairs)\n",
        "\n",
        "# 使用zip进行矩阵转置\n",
        "matrix = [\n",
        "    [1, 2, 3],\n",
        "    [4, 5, 6],\n",
        "    [7, 8, 9]\n",
        "]\n",
        "#方法一\n",
        "transposed = [list(row) for row in list(zip(*matrix))]\n",
        "print(transposed)\n",
        "\n",
        "\n",
        "#方法二\n",
        "transposedone = list()\n",
        "for row in zip(*matrix):\n",
        "    transposedone.append(list(row))\n",
        "print(f\"方法二：{transposedone}\")"
      ]
    },
    {
      "cell_type": "code",
      "execution_count": null,
      "metadata": {},
      "outputs": [],
      "source": [
        "# 演示zip()返回的迭代器对象特性\n",
        "names = [\"Alice\", \"Bob\", \"Charlie\"]\n",
        "ages = [24, 30, 35]\n",
        "\n",
        "# 创建zip对象\n",
        "zipped = zip(names, ages)\n",
        "\n",
        "# 1. 查看zip对象的类型\n",
        "print(\"zip对象的类型:\", type(zipped))\n",
        "\n",
        "# 2. 验证zip对象是否是可迭代的\n",
        "print(\"是否是可迭代对象:\", hasattr(zipped, '__iter__'))\n",
        "\n",
        "# 3. 演示迭代器的特性：只能遍历一次\n",
        "print(\"\\n第一次遍历:\")\n",
        "for pair in zipped:\n",
        "    print(pair)\n",
        "\n",
        "print(\"\\n第二次遍历(将没有输出):\")\n",
        "for pair in zipped:  # 不会有任何输出，因为迭代器已经用完了\n",
        "    print(pair)\n",
        "\n",
        "# 4. 如果需要多次遍历，需要转换为列表\n",
        "zipped_list = list(zip(names, ages))\n",
        "print(\"\\n转换为列表后可以多次遍历:\")\n",
        "print(\"第一次:\", zipped_list)\n",
        "print(\"第二次:\", zipped_list)\n"
      ]
    }
  ],
  "metadata": {
    "kernelspec": {
      "display_name": "studypytorch",
      "language": "python",
      "name": "python3"
    },
    "language_info": {
      "codemirror_mode": {
        "name": "ipython",
        "version": 3
      },
      "file_extension": ".py",
      "mimetype": "text/x-python",
      "name": "python",
      "nbconvert_exporter": "python",
      "pygments_lexer": "ipython3",
      "version": "3.8.20"
    }
  },
  "nbformat": 4,
  "nbformat_minor": 2
}
