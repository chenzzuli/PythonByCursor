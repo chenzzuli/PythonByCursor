{
  "cells": [
    {
      "cell_type": "raw",
      "metadata": {
        "vscode": {
          "languageId": "raw"
        }
      },
      "source": [
        "# Python 正则表达式详解\n",
        "\n",
        "正则表达式（Regular Expression，简称 regex）是一种强大的文本模式匹配和搜索工具。在 Python 中，我们使用 `re` 模块来处理正则表达式。\n",
        "\n",
        "本教程将涵盖：\n",
        "1. 正则表达式基础语法\n",
        "2. 常用元字符\n",
        "3. 重复模式\n",
        "4. 分组和捕获\n",
        "5. 常见应用场景\n",
        "6. 实战示例\n"
      ]
    },
    {
      "cell_type": "code",
      "execution_count": null,
      "metadata": {},
      "outputs": [],
      "source": [
        "# 首先导入re模块\n",
        "import re\n"
      ]
    },
    {
      "cell_type": "raw",
      "metadata": {
        "vscode": {
          "languageId": "raw"
        }
      },
      "source": [
        "## 1. 正则表达式基础语法\n",
        "\n",
        "### 基本匹配\n",
        "- `.` : 匹配任意单个字符（除了换行符）\n",
        "- `^` : 匹配字符串开头\n",
        "- `$` : 匹配字符串结尾\n",
        "- `\\w`: 匹配字母、数字或下划线\n",
        "- `\\d`: 匹配数字\n",
        "- `\\s`: 匹配空白字符（空格、制表符、换行符）\n",
        "- `\\W`, `\\D`, `\\S`: 与小写版本相反\n",
        "\n",
        "让我们看一些简单的例子：\n"
      ]
    },
    {
      "cell_type": "code",
      "execution_count": null,
      "metadata": {},
      "outputs": [],
      "source": [
        "# 基本匹配示例\n",
        "text = \"Hello123 World!\"\n",
        "\n",
        "# 匹配字母数字\n",
        "print(\"字母数字匹配：\")\n",
        "print(re.findall(r'\\w+', text))  # ['Hello123', 'World']\n",
        "\n",
        "# 匹配数字\n",
        "print(\"\\n数字匹配：\")\n",
        "print(re.findall(r'\\d+', text))  # ['123']\n",
        "\n",
        "# 匹配单词开头的H\n",
        "print(\"\\n匹配以H开头：\")\n",
        "print(re.findall(r'^H\\w+', text))  # ['Hello123']\n"
      ]
    },
    {
      "cell_type": "raw",
      "metadata": {
        "vscode": {
          "languageId": "raw"
        }
      },
      "source": [
        "## 2. 重复模式\n",
        "\n",
        "正则表达式提供了多种方式来指定模式的重复次数：\n",
        "\n",
        "- `*`: 匹配0次或多次\n",
        "- `+`: 匹配1次或多次\n",
        "- `?`: 匹配0次或1次\n",
        "- `{n}`: 精确匹配n次\n",
        "- `{n,}`: 匹配至少n次\n",
        "- `{n,m}`: 匹配n到m次\n",
        "\n",
        "下面是一些实例：\n"
      ]
    },
    {
      "cell_type": "code",
      "execution_count": null,
      "metadata": {},
      "outputs": [],
      "source": [
        "# 重复模式示例\n",
        "text = \"hello 123 hi 4567 hey 89\"\n",
        "\n",
        "# 匹配1个或多个数字\n",
        "print(\"一个或多个数字：\")\n",
        "print(re.findall(r'\\d+', text))  # ['123', '4567', '89']\n",
        "\n",
        "# 匹配2-3个数字\n",
        "print(\"\\n2-3个数字：\")\n",
        "print(re.findall(r'\\d{2,3}', text))  # ['123', '456', '89']\n",
        "\n",
        "# 匹配以h开头的单词\n",
        "print(\"\\n以h开头的单词：\")\n",
        "print(re.findall(r'h\\w*', text))  # ['hello', 'hi', 'hey']\n"
      ]
    },
    {
      "cell_type": "raw",
      "metadata": {
        "vscode": {
          "languageId": "raw"
        }
      },
      "source": [
        "## 3. 字符集和范围\n",
        "\n",
        "我们可以使用方括号 `[]` 来定义字符集：\n",
        "\n",
        "- `[abc]`: 匹配a、b或c中的任意一个字符\n",
        "- `[a-z]`: 匹配任意小写字母\n",
        "- `[A-Z]`: 匹配任意大写字母\n",
        "- `[0-9]`: 匹配任意数字\n",
        "- `[^abc]`: 匹配除了a、b、c以外的任意字符\n",
        "\n",
        "让我们看一些例子：\n"
      ]
    },
    {
      "cell_type": "code",
      "execution_count": 4,
      "metadata": {},
      "outputs": [
        {
          "name": "stdout",
          "output_type": "stream",
          "text": [
            "所有元音字母：\n",
            "['e', 'u', 'i', 'o', 'o', 'u', 'o', 'e', 'e', 'a', 'o']\n",
            "\n",
            "所有大写字母：\n",
            "['T', 'Q', 'B', 'F', 'J', 'O', 'T', 'L', 'D']\n",
            "\n",
            "非空格字符：\n",
            "['T', 'h', 'e', 'Q', 'u', 'i', 'c', 'k', 'B', 'r', 'o', 'w', 'n', 'F', 'o', 'x', 'J', 'u', 'm', 'p', 's', 'O', 'v', 'e', 'r', 'T', 'h', 'e', 'L', 'a', 'z', 'y', 'D', 'o', 'g']\n"
          ]
        }
      ],
      "source": [
        "import re\n",
        "# 字符集示例\n",
        "text = \"The Quick Brown Fox Jumps Over The Lazy Dog\"\n",
        "\n",
        "# 匹配所有元音字母\n",
        "print(\"所有元音字母：\")\n",
        "print(re.findall(r'[aeiou]', text.lower()))\n",
        "\n",
        "# 匹配所有大写字母\n",
        "print(\"\\n所有大写字母：\")\n",
        "print(re.findall(r'[A-Z]', text))\n",
        "\n",
        "# 匹配除了空格外的所有字符\n",
        "print(\"\\n非空格字符：\")\n",
        "print(re.findall(r'[^ ]', text))\n"
      ]
    },
    {
      "cell_type": "raw",
      "metadata": {
        "vscode": {
          "languageId": "raw"
        }
      },
      "source": [
        "## 4. 分组和捕获\n",
        "\n",
        "使用圆括号 `()` 可以创建捕获组，这允许我们：\n",
        "- 将多个字符作为一个单元处理\n",
        "- 从匹配中提取特定部分\n",
        "- 在模式中引用之前的组\n",
        "\n",
        "主要概念：\n",
        "- `(pattern)`: 创建一个捕获组\n",
        "- `(?:pattern)`: 创建一个非捕获组\n",
        "- `\\1`, `\\2` 等：反向引用之前的捕获组\n",
        "\n",
        "让我们看一些实际例子：\n"
      ]
    },
    {
      "cell_type": "code",
      "execution_count": null,
      "metadata": {},
      "outputs": [],
      "source": [
        "# 分组示例\n",
        "# 提取邮箱地址的用户名和域名\n",
        "email = \"user123@example.com\"\n",
        "pattern = r'(\\w+)@(\\w+\\.\\w+)'\n",
        "match = re.match(pattern, email)\n",
        "if match:\n",
        "    print(\"完整邮箱:\", match.group(0))\n",
        "    print(\"用户名:\", match.group(1))\n",
        "    print(\"域名:\", match.group(2))\n",
        "\n",
        "# 匹配重复的单词\n",
        "text = \"hello hello world world\"\n",
        "print(\"\\n重复的单词：\")\n",
        "print(re.findall(r'(\\b\\w+)\\s+\\1', text))  # \\1 引用第一个捕获组\n",
        "\n",
        "# 提取日期\n",
        "date = \"2024-03-15\"\n",
        "pattern = r'(\\d{4})-(\\d{2})-(\\d{2})'\n",
        "match = re.match(pattern, date)\n",
        "if match:\n",
        "    year, month, day = match.groups()\n",
        "    print(f\"\\n日期解析：年={year}, 月={month}, 日={day}\")\n"
      ]
    },
    {
      "cell_type": "raw",
      "metadata": {
        "vscode": {
          "languageId": "raw"
        }
      },
      "source": [
        "## 5. 常用正则表达式函数\n",
        "\n",
        "Python的re模块提供了几个重要的函数：\n",
        "\n",
        "1. `re.match(pattern, string)`: 从字符串开头匹配模式\n",
        "2. `re.search(pattern, string)`: 在字符串中搜索第一个匹配\n",
        "3. `re.findall(pattern, string)`: 找到所有匹配项\n",
        "4. `re.sub(pattern, repl, string)`: 替换匹配项\n",
        "5. `re.split(pattern, string)`: 使用模式分割字符串\n",
        "\n",
        "让我们看看这些函数的实际应用：\n"
      ]
    },
    {
      "cell_type": "code",
      "execution_count": null,
      "metadata": {},
      "outputs": [],
      "source": [
        "# 演示各种正则表达式函数\n",
        "text = \"The price is $19.99 and €20.00\"\n",
        "\n",
        "# 1. re.match - 只匹配字符串开头\n",
        "print(\"re.match 示例：\")\n",
        "match = re.match(r'The', text)\n",
        "print(match.group() if match else \"No match\")\n",
        "\n",
        "# 2. re.search - 搜索整个字符串中的第一个匹配\n",
        "print(\"\\nre.search 示例：\")\n",
        "search = re.search(r'\\$\\d+\\.\\d+', text)\n",
        "print(search.group() if search else \"No match\")\n",
        "\n",
        "# 3. re.findall - 找到所有匹配项\n",
        "print(\"\\nre.findall 示例：\")\n",
        "prices = re.findall(r'[\\$€]\\d+\\.\\d+', text)\n",
        "print(prices)\n",
        "\n",
        "# 4. re.sub - 替换匹配项\n",
        "print(\"\\nre.sub 示例：\")\n",
        "new_text = re.sub(r'\\$(\\d+\\.\\d+)', r'USD \\1', text)\n",
        "print(new_text)\n",
        "\n",
        "# 5. re.split - 分割字符串\n",
        "print(\"\\nre.split 示例：\")\n",
        "words = re.split(r'\\s+', text)\n",
        "print(words)\n"
      ]
    },
    {
      "cell_type": "raw",
      "metadata": {
        "vscode": {
          "languageId": "raw"
        }
      },
      "source": [
        "## 6. 实战示例\n",
        "\n",
        "让我们来看一些实际应用场景：\n",
        "\n",
        "1. 验证电子邮件地址\n",
        "2. 提取网页URL\n",
        "3. 解析日志文件\n",
        "4. 验证密码强度\n",
        "\n",
        "这些例子展示了正则表达式在实际编程中的应用：\n"
      ]
    },
    {
      "cell_type": "code",
      "execution_count": null,
      "metadata": {},
      "outputs": [],
      "source": [
        "# 实战示例\n",
        "\n",
        "def validate_email(email):\n",
        "    \"\"\"验证电子邮件地址\"\"\"\n",
        "    pattern = r'^[\\w\\.-]+@[\\w\\.-]+\\.\\w+$'\n",
        "    return bool(re.match(pattern, email))\n",
        "\n",
        "def extract_urls(text):\n",
        "    \"\"\"提取URL\"\"\"\n",
        "    pattern = r'https?://(?:[-\\w.]|(?:%[\\da-fA-F]{2}))+'\n",
        "    return re.findall(pattern, text)\n",
        "\n",
        "def parse_log_line(line):\n",
        "    \"\"\"解析日志行 - 示例格式: [2024-03-15 10:30:15] INFO: User login\"\"\"\n",
        "    pattern = r'\\[(\\d{4}-\\d{2}-\\d{2} \\d{2}:\\d{2}:\\d{2})\\] (\\w+): (.+)'\n",
        "    match = re.match(pattern, line)\n",
        "    if match:\n",
        "        return {\n",
        "            'timestamp': match.group(1),\n",
        "            'level': match.group(2),\n",
        "            'message': match.group(3)\n",
        "        }\n",
        "    return None\n",
        "\n",
        "def check_password_strength(password):\n",
        "    \"\"\"检查密码强度\"\"\"\n",
        "    checks = [\n",
        "        (r'.{8,}', \"长度至少为8\"),\n",
        "        (r'[A-Z]', \"包含大写字母\"),\n",
        "        (r'[a-z]', \"包含小写字母\"),\n",
        "        (r'\\d', \"包含数字\"),\n",
        "        (r'[!@#$%^&*(),.?\":{}|<>]', \"包含特殊字符\")\n",
        "    ]\n",
        "    \n",
        "    passed = []\n",
        "    failed = []\n",
        "    for pattern, description in checks:\n",
        "        if re.search(pattern, password):\n",
        "            passed.append(description)\n",
        "        else:\n",
        "            failed.append(description)\n",
        "    \n",
        "    return {\n",
        "        'strong_enough': len(passed) == len(checks),\n",
        "        'passed': passed,\n",
        "        'failed': failed\n",
        "    }\n",
        "\n",
        "# 测试这些函数\n",
        "print(\"邮箱验证：\")\n",
        "emails = [\"user@example.com\", \"invalid.email@\", \"test@test.com\"]\n",
        "for email in emails:\n",
        "    print(f\"{email}: {'有效' if validate_email(email) else '无效'}\")\n",
        "\n",
        "print(\"\\nURL提取：\")\n",
        "text = \"访问 https://www.python.org 和 http://regex101.com 学习更多\"\n",
        "print(extract_urls(text))\n",
        "\n",
        "print(\"\\n日志解析：\")\n",
        "log_line = \"[2024-03-15 10:30:15] INFO: User login successful\"\n",
        "print(parse_log_line(log_line))\n",
        "\n",
        "print(\"\\n密码强度检查：\")\n",
        "password = \"Test123!@#\"\n",
        "result = check_password_strength(password)\n",
        "print(f\"密码: {password}\")\n",
        "print(f\"足够强: {result['strong_enough']}\")\n",
        "print(f\"通过检查: {', '.join(result['passed'])}\")\n",
        "print(f\"未通过检查: {', '.join(result['failed'])}\")\n"
      ]
    },
    {
      "cell_type": "raw",
      "metadata": {
        "vscode": {
          "languageId": "raw"
        }
      },
      "source": [
        "## 总结\n",
        "\n",
        "我们已经学习了Python正则表达式的主要内容：\n",
        "\n",
        "1. 基本语法和元字符\n",
        "2. 重复模式\n",
        "3. 字符集和范围\n",
        "4. 分组和捕获\n",
        "5. 常用函数\n",
        "6. 实际应用场景\n",
        "\n",
        "建议：\n",
        "- 使用在线工具如 regex101.com 来测试正则表达式\n",
        "- 从简单模式开始，逐步构建复杂模式\n",
        "- 注意性能问题，避免回溯过多\n",
        "- 保持正则表达式的可读性和可维护性\n",
        "- 为复杂的正则表达式添加注释\n",
        "\n",
        "记住：正则表达式是一个强大的工具，但不是所有问题的最佳解决方案。有时候使用简单的字符串方法可能更合适。\n"
      ]
    }
  ],
  "metadata": {
    "kernelspec": {
      "display_name": "studypytorch",
      "language": "python",
      "name": "python3"
    },
    "language_info": {
      "codemirror_mode": {
        "name": "ipython",
        "version": 3
      },
      "file_extension": ".py",
      "mimetype": "text/x-python",
      "name": "python",
      "nbconvert_exporter": "python",
      "pygments_lexer": "ipython3",
      "version": "3.8.20"
    }
  },
  "nbformat": 4,
  "nbformat_minor": 2
}
