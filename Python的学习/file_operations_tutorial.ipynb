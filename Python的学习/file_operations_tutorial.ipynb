{
  "cells": [
    {
      "cell_type": "raw",
      "metadata": {
        "vscode": {
          "languageId": "raw"
        }
      },
      "source": [
        "# Python文件操作完全教程\n",
        "\n",
        "本教程将详细介绍Python中的文件操作，包括：\n",
        "1. 读写文件的基本操作\n",
        "2. 文件路径处理\n",
        "3. 文件系统操作\n",
        "\n",
        "通过本教程，你将学会如何在Python中进行各种文件操作。\n"
      ]
    },
    {
      "cell_type": "raw",
      "metadata": {
        "vscode": {
          "languageId": "raw"
        }
      },
      "source": [
        "## 1. 读写文件的基本操作\n",
        "\n",
        "Python提供了多种方式来读写文件。以下是最常用的方法：\n",
        "- 使用`open()`函数打开文件\n",
        "- 文件的读取方法：`read()`, `readline()`, `readlines()`\n",
        "- 文件的写入方法：`write()`, `writelines()`\n",
        "- 使用`with`语句安全地处理文件\n",
        "\n",
        "让我们通过实例来学习这些操作：\n"
      ]
    },
    {
      "cell_type": "code",
      "execution_count": null,
      "metadata": {},
      "outputs": [],
      "source": [
        "# 1.1 创建一个示例文件\n",
        "with open('example.txt', 'w', encoding='utf-8') as file:\n",
        "    file.write('这是第一行\\n')\n",
        "    file.write('这是第二行\\n')\n",
        "    file.write('这是第三行\\n')\n",
        "\n",
        "print(\"文件已创建并写入内容！\")\n",
        "\n",
        "# 1.2 读取整个文件\n",
        "print(\"\\n使用read()读取整个文件：\")\n",
        "with open('example.txt', 'r', encoding='utf-8') as file:\n",
        "    content = file.read()\n",
        "    print(content)\n",
        "\n",
        "# 1.3 逐行读取文件\n",
        "print(\"\\n使用readline()逐行读取：\")\n",
        "with open('example.txt', 'r', encoding='utf-8') as file:\n",
        "    print(\"第一次调用readline():\")\n",
        "    line1 = file.readline()\n",
        "    print(\"读取到的内容:\", line1.strip())\n",
        "    \n",
        "    print(\"\\n第二次调用readline():\")\n",
        "    line2 = file.readline()\n",
        "    print(\"读取到的内容:\", line2.strip())\n",
        "    \n",
        "    print(\"\\n第三次调用readline():\")\n",
        "    line3 = file.readline()\n",
        "    print(\"读取到的内容:\", line3.strip())\n",
        "    \n",
        "    print(\"\\n第四次调用readline():\")\n",
        "    line4 = file.readline()\n",
        "    if line4:  # 如果还有内容\n",
        "        print(\"读取到的内容:\", line4.strip())\n",
        "    else:\n",
        "        print(\"已经到达文件末尾，没有更多内容了\")\n",
        "\n",
        "# 1.4 读取所有行到列表\n",
        "print(\"\\n使用readlines()读取所有行到列表：\")\n",
        "with open('example.txt', 'r', encoding='utf-8') as file:\n",
        "    lines = file.readlines()\n",
        "    print(\"所有行：\", lines)\n",
        "\n",
        "# 1.5 追加内容到文件\n",
        "with open('example.txt', 'a', encoding='utf-8') as file:\n",
        "    file.write('这是追加的第四行\\n')\n",
        "\n",
        "print(\"\\n文件已追加新内容！\")\n",
        "\n",
        "# 1.6 再次读取文件显示所有内容\n",
        "print(\"\\n最终文件内容：\")\n",
        "with open('example.txt', 'r', encoding='utf-8') as file:\n",
        "    print(file.read())\n"
      ]
    },
    {
      "cell_type": "raw",
      "metadata": {
        "vscode": {
          "languageId": "raw"
        }
      },
      "source": [
        "## 2. 文件路径处理\n",
        "\n",
        "在Python中,我们使用`os.path`模块和`pathlib`模块来处理文件路径。`pathlib`是更现代的方式，提供了面向对象的接口。让我们看看如何使用这两种方式：\n"
      ]
    },
    {
      "cell_type": "code",
      "execution_count": null,
      "metadata": {},
      "outputs": [],
      "source": [
        "import os\n",
        "from pathlib import Path\n",
        "\n",
        "# 2.1 使用os.path处理路径\n",
        "print(\"使用os.path：\")\n",
        "# 获取当前文件的绝对路径\n",
        "current_file = os.path.abspath(__file__)\n",
        "print(\"当前文件的绝对路径:\", current_file)\n",
        "\n",
        "# 获取目录名和文件名\n",
        "dir_name = os.path.dirname(current_file)\n",
        "file_name = os.path.basename(current_file)\n",
        "print(\"目录名:\", dir_name)\n",
        "print(\"文件名:\", file_name)\n",
        "\n",
        "# 拼接路径\n",
        "new_path = os.path.join(dir_name, \"new_folder\", \"new_file.txt\")\n",
        "print(\"拼接的新路径:\", new_path)\n",
        "\n",
        "print(\"\\n使用pathlib：\")\n",
        "# 2.2 使用pathlib处理路径\n",
        "current_path = Path.cwd()\n",
        "print(\"当前工作目录:\", current_path)\n",
        "\n",
        "# 创建新的路径\n",
        "new_file_path = current_path / \"new_folder\" / \"new_file.txt\"\n",
        "print(\"新文件路径:\", new_file_path)\n",
        "\n",
        "# 获取路径的各个部分\n",
        "print(\"父目录:\", new_file_path.parent)\n",
        "print(\"文件名:\", new_file_path.name)\n",
        "print(\"文件后缀:\", new_file_path.suffix)\n",
        "print(\"文件名（不含后缀）:\", new_file_path.stem)\n"
      ]
    },
    {
      "cell_type": "raw",
      "metadata": {
        "vscode": {
          "languageId": "raw"
        }
      },
      "source": [
        "## 3. 文件系统操作\n",
        "\n",
        "Python提供了多种方式来操作文件系统，包括：\n",
        "- 创建和删除目录\n",
        "- 列出目录内容\n",
        "- 检查文件/目录是否存在\n",
        "- 复制、移动和删除文件\n",
        "\n",
        "让我们通过实例来学习这些操作：\n"
      ]
    },
    {
      "cell_type": "code",
      "execution_count": null,
      "metadata": {},
      "outputs": [],
      "source": [
        "import os\n",
        "import shutil\n",
        "from pathlib import Path\n",
        "\n",
        "# 3.1 创建目录\n",
        "print(\"创建目录：\")\n",
        "os.makedirs(\"test_folder/subfolder\", exist_ok=True)\n",
        "print(\"目录已创建\")\n",
        "\n",
        "# 3.2 列出目录内容\n",
        "print(\"\\n列出当前目录内容：\")\n",
        "print(os.listdir(\".\"))\n",
        "\n",
        "# 3.3 检查文件/目录是否存在\n",
        "test_path = \"test_folder/test.txt\"\n",
        "print(f\"\\n检查 {test_path} 是否存在:\", os.path.exists(test_path))\n",
        "\n",
        "# 3.4 创建新文件\n",
        "with open(test_path, \"w\") as f:\n",
        "    f.write(\"测试内容\")\n",
        "print(f\"创建文件: {test_path}\")\n",
        "\n",
        "# 3.5 获取文件信息\n",
        "file_stat = os.stat(test_path)\n",
        "print(f\"\\n文件信息:\")\n",
        "print(f\"大小: {file_stat.st_size} 字节\")\n",
        "print(f\"创建时间: {file_stat.st_ctime}\")\n",
        "print(f\"最后修改时间: {file_stat.st_mtime}\")\n",
        "\n",
        "# 3.6 复制文件\n",
        "shutil.copy(test_path, \"test_folder/test_copy.txt\")\n",
        "print(\"\\n文件已复制\")\n",
        "\n",
        "# 3.7 移动文件\n",
        "os.rename(\"test_folder/test_copy.txt\", \"test_folder/subfolder/test_moved.txt\")\n",
        "print(\"文件已移动\")\n",
        "\n",
        "# 3.8 删除文件和目录\n",
        "os.remove(test_path)\n",
        "print(\"\\n文件已删除\")\n",
        "\n",
        "# 删除整个目录树\n",
        "shutil.rmtree(\"test_folder\")\n",
        "print(\"目录树已删除\")\n"
      ]
    },
    {
      "cell_type": "raw",
      "metadata": {
        "vscode": {
          "languageId": "raw"
        }
      },
      "source": [
        "## 总结\n",
        "\n",
        "在这个教程中，我们学习了Python中的文件操作的三个主要方面：\n",
        "\n",
        "1. **读写文件**\n",
        "   - 使用`open()`函数打开文件\n",
        "   - 文件的读取方法：`read()`, `readline()`, `readlines()`\n",
        "   - 文件的写入方法：`write()`, `writelines()`\n",
        "   - 使用`with`语句安全地处理文件\n",
        "\n",
        "2. **文件路径处理**\n",
        "   - 使用`os.path`模块处理路径\n",
        "   - 使用更现代的`pathlib`模块\n",
        "   - 路径的拼接、分割和处理\n",
        "\n",
        "3. **文件系统操作**\n",
        "   - 创建和删除目录\n",
        "   - 列出目录内容\n",
        "   - 检查文件/目录是否存在\n",
        "   - 复制、移动和删除文件\n",
        "   - 获取文件信息\n",
        "\n",
        "这些操作是Python编程中的基础技能，掌握它们将帮助你更好地处理文件和目录相关的任务。\n"
      ]
    }
  ],
  "metadata": {
    "language_info": {
      "name": "python"
    }
  },
  "nbformat": 4,
  "nbformat_minor": 2
}
