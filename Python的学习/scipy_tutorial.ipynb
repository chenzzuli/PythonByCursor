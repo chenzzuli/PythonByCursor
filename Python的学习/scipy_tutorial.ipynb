{
  "cells": [
    {
      "cell_type": "raw",
      "metadata": {
        "vscode": {
          "languageId": "raw"
        }
      },
      "source": [
        "# SciPy 教程\n",
        "\n",
        "SciPy（Scientific Python）是一个用于数学、科学和工程计算的 Python 库。本教程将介绍 SciPy 的主要功能和使用方法。\n",
        "\n",
        "## 目录\n",
        "1. 基础知识\n",
        "2. 线性代数 (scipy.linalg)\n",
        "3. 优化和拟合 (scipy.optimize)\n",
        "4. 稀疏矩阵 (scipy.sparse)\n",
        "5. 统计函数 (scipy.stats)\n",
        "6. 图像处理 (scipy.ndimage)\n",
        "7. 信号处理 (scipy.signal)\n",
        "8. 积分和微分方程 (scipy.integrate)"
      ]
    },
    {
      "cell_type": "code",
      "execution_count": null,
      "metadata": {},
      "outputs": [],
      "source": [
        "# 导入必要的库\n",
        "import numpy as np\n",
        "import scipy as sp\n",
        "import matplotlib.pyplot as plt\n",
        "\n",
        "# 设置显示格式\n",
        "%matplotlib inline\n",
        "plt.style.use('seaborn')\n"
      ]
    },
    {
      "cell_type": "raw",
      "metadata": {
        "vscode": {
          "languageId": "raw"
        }
      },
      "source": [
        "## 1. 线性代数 (scipy.linalg)\n",
        "\n",
        "SciPy 的线性代数模块提供了比 NumPy 更多的功能，包括求解线性方程组、特征值计算等。\n"
      ]
    },
    {
      "cell_type": "code",
      "execution_count": null,
      "metadata": {},
      "outputs": [],
      "source": [
        "from scipy import linalg\n",
        "\n",
        "# 创建一个示例矩阵\n",
        "A = np.array([[1, 2], [3, 4]])\n",
        "b = np.array([1, 2])\n",
        "\n",
        "# 求解线性方程组 Ax = b\n",
        "x = linalg.solve(A, b)\n",
        "print(\"线性方程组的解：\", x)\n",
        "\n",
        "# 计算特征值和特征向量\n",
        "eigenvals, eigenvecs = linalg.eig(A)\n",
        "print(\"\\n特征值：\", eigenvals)\n",
        "print(\"特征向量：\\n\", eigenvecs)\n",
        "\n",
        "# 计算矩阵的行列式\n",
        "det = linalg.det(A)\n",
        "print(\"\\n行列式：\", det)\n"
      ]
    },
    {
      "cell_type": "raw",
      "metadata": {
        "vscode": {
          "languageId": "raw"
        }
      },
      "source": [
        "## 2. 优化和拟合 (scipy.optimize)\n",
        "\n",
        "scipy.optimize 模块提供了多种优化算法，用于找到函数的最小值、求解方程等。\n"
      ]
    },
    {
      "cell_type": "code",
      "execution_count": null,
      "metadata": {},
      "outputs": [],
      "source": [
        "from scipy import optimize\n",
        "\n",
        "# 定义要最小化的函数\n",
        "def f(x):\n",
        "    return x**2 + 10*np.sin(x)\n",
        "\n",
        "# 寻找最小值\n",
        "result = optimize.minimize(f, x0=0)\n",
        "print(\"最小值点：\", result.x)\n",
        "print(\"最小值：\", result.fun)\n",
        "\n",
        "# 绘制函数图像\n",
        "x = np.linspace(-10, 10, 1000)\n",
        "plt.figure(figsize=(10, 6))\n",
        "plt.plot(x, f(x))\n",
        "plt.plot(result.x, result.fun, 'r*', markersize=15)\n",
        "plt.grid(True)\n",
        "plt.title('函数及其最小值点')\n",
        "plt.show()\n"
      ]
    },
    {
      "cell_type": "raw",
      "metadata": {
        "vscode": {
          "languageId": "raw"
        }
      },
      "source": [
        "## 3. 稀疏矩阵 (scipy.sparse)\n",
        "\n",
        "对于大型的稀疏矩阵（大部分元素为0的矩阵），使用稀疏矩阵格式可以节省内存。\n"
      ]
    },
    {
      "cell_type": "code",
      "execution_count": null,
      "metadata": {},
      "outputs": [],
      "source": [
        "from scipy import sparse\n",
        "\n",
        "# 创建一个稀疏矩阵\n",
        "dense = np.array([[1, 0, 0], [0, 2, 0], [0, 0, 3]])\n",
        "sparse_matrix = sparse.csr_matrix(dense)\n",
        "\n",
        "print(\"稀疏矩阵格式：\\n\", sparse_matrix)\n",
        "print(\"\\n转换回密集矩阵：\\n\", sparse_matrix.toarray())\n",
        "\n",
        "# 稀疏矩阵运算\n",
        "result = sparse_matrix.dot(sparse_matrix)\n",
        "print(\"\\n矩阵平方：\\n\", result.toarray())\n"
      ]
    },
    {
      "cell_type": "raw",
      "metadata": {
        "vscode": {
          "languageId": "raw"
        }
      },
      "source": [
        "## 4. 统计函数 (scipy.stats)\n",
        "\n",
        "scipy.stats 模块提供了大量统计分布和统计函数。\n"
      ]
    },
    {
      "cell_type": "code",
      "execution_count": null,
      "metadata": {},
      "outputs": [],
      "source": [
        "from scipy import stats\n",
        "\n",
        "# 生成正态分布数据\n",
        "data = stats.norm.rvs(loc=0, scale=1, size=1000)\n",
        "\n",
        "# 计算基本统计量\n",
        "print(\"均值：\", stats.tmean(data))\n",
        "print(\"标准差：\", stats.tstd(data))\n",
        "print(\"偏度：\", stats.skew(data))\n",
        "print(\"峰度：\", stats.kurtosis(data))\n",
        "\n",
        "# 绘制直方图和核密度估计\n",
        "plt.figure(figsize=(10, 6))\n",
        "plt.hist(data, bins=50, density=True, alpha=0.7)\n",
        "x = np.linspace(data.min(), data.max(), 100)\n",
        "plt.plot(x, stats.norm.pdf(x, loc=0, scale=1))\n",
        "plt.title('数据分布')\n",
        "plt.show()\n"
      ]
    },
    {
      "cell_type": "raw",
      "metadata": {
        "vscode": {
          "languageId": "raw"
        }
      },
      "source": [
        "## 5. 图像处理 (scipy.ndimage)\n",
        "\n",
        "scipy.ndimage 模块提供了多维图像处理功能。\n"
      ]
    },
    {
      "cell_type": "code",
      "execution_count": null,
      "metadata": {},
      "outputs": [],
      "source": [
        "from scipy import ndimage\n",
        "\n",
        "# 创建示例图像\n",
        "x, y = np.mgrid[-5:5:0.1, -5:5:0.1]\n",
        "z = np.exp(-(x**2 + y**2)/2)\n",
        "\n",
        "# 应用高斯滤波\n",
        "filtered = ndimage.gaussian_filter(z, sigma=1)\n",
        "\n",
        "# 显示原始图像和处理后的图像\n",
        "fig, (ax1, ax2) = plt.subplots(1, 2, figsize=(12, 5))\n",
        "ax1.imshow(z)\n",
        "ax1.set_title('原始图像')\n",
        "ax2.imshow(filtered)\n",
        "ax2.set_title('高斯滤波后')\n",
        "plt.show()\n"
      ]
    },
    {
      "cell_type": "raw",
      "metadata": {
        "vscode": {
          "languageId": "raw"
        }
      },
      "source": [
        "## 6. 信号处理 (scipy.signal)\n",
        "\n",
        "scipy.signal 模块提供信号处理工具。\n"
      ]
    },
    {
      "cell_type": "code",
      "execution_count": null,
      "metadata": {},
      "outputs": [],
      "source": [
        "from scipy import signal\n",
        "\n",
        "# 创建一个信号\n",
        "t = np.linspace(0, 1, 1000)\n",
        "s = np.sin(2*np.pi*10*t) + np.sin(2*np.pi*50*t)\n",
        "\n",
        "# 设计一个低通滤波器\n",
        "b, a = signal.butter(4, 0.2)\n",
        "filtered = signal.filtfilt(b, a, s)\n",
        "\n",
        "# 绘制原始信号和滤波后的信号\n",
        "plt.figure(figsize=(12, 6))\n",
        "plt.plot(t, s, 'b-', alpha=0.5, label='原始信号')\n",
        "plt.plot(t, filtered, 'r-', label='滤波后')\n",
        "plt.legend()\n",
        "plt.title('低通滤波示例')\n",
        "plt.show()\n"
      ]
    },
    {
      "cell_type": "raw",
      "metadata": {
        "vscode": {
          "languageId": "raw"
        }
      },
      "source": [
        "## 7. 积分和微分方程 (scipy.integrate)\n",
        "\n",
        "scipy.integrate 模块提供了数值积分和微分方程求解功能。\n"
      ]
    },
    {
      "cell_type": "code",
      "execution_count": null,
      "metadata": {},
      "outputs": [],
      "source": [
        "from scipy import integrate\n",
        "\n",
        "# 定义要积分的函数\n",
        "def f(x):\n",
        "    return np.sin(x)\n",
        "\n",
        "# 计算定积分\n",
        "result, error = integrate.quad(f, 0, np.pi)\n",
        "print(f\"∫sin(x)dx from 0 to π = {result:.6f} ± {error:.6f}\")\n",
        "\n",
        "# 解微分方程\n",
        "def dy_dx(y, x):\n",
        "    return -2*y  # dy/dx = -2y\n",
        "\n",
        "x = np.linspace(0, 2, 100)\n",
        "y0 = 1\n",
        "solution = integrate.odeint(dy_dx, y0, x)\n",
        "\n",
        "plt.figure(figsize=(10, 6))\n",
        "plt.plot(x, solution)\n",
        "plt.title('微分方程 dy/dx = -2y 的解')\n",
        "plt.grid(True)\n",
        "plt.show()\n"
      ]
    },
    {
      "cell_type": "raw",
      "metadata": {
        "vscode": {
          "languageId": "raw"
        }
      },
      "source": [
        "## 总结\n",
        "\n",
        "SciPy 提供了丰富的科学计算工具：\n",
        "1. 线性代数运算\n",
        "2. 优化和曲线拟合\n",
        "3. 稀疏矩阵处理\n",
        "4. 统计分析\n",
        "5. 图像处理\n",
        "6. 信号处理\n",
        "7. 积分和微分方程\n",
        "\n",
        "这些工具在科学研究、工程计算、数据分析等领域都有广泛应用。\n"
      ]
    }
  ],
  "metadata": {
    "kernelspec": {
      "display_name": "studypytorch",
      "language": "python",
      "name": "python3"
    },
    "language_info": {
      "codemirror_mode": {
        "name": "ipython",
        "version": 3
      },
      "file_extension": ".py",
      "mimetype": "text/x-python",
      "name": "python",
      "nbconvert_exporter": "python",
      "pygments_lexer": "ipython3",
      "version": "3.8.20"
    }
  },
  "nbformat": 4,
  "nbformat_minor": 2
}
