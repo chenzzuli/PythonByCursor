{
  "cells": [
    {
      "cell_type": "raw",
      "metadata": {
        "vscode": {
          "languageId": "raw"
        }
      },
      "source": [
        "# Python 集合（Set）教程\n",
        "\n",
        "集合是Python中的一种数据结构，具有以下特点：\n",
        "1. 无序（不能通过索引访问）\n",
        "2. 元素唯一（不能有重复元素）\n",
        "3. 可变（可以添加或删除元素）\n",
        "4. 只能包含不可变类型的元素（数字、字符串、元组等）\n"
      ]
    },
    {
      "cell_type": "code",
      "execution_count": 1,
      "metadata": {},
      "outputs": [
        {
          "name": "stdout",
          "output_type": "stream",
          "text": [
            "使用花括号创建集合: {'orange', 'apple', 'banana'}\n",
            "使用set()函数创建集合: {1, 2, 3, 4, 5}\n",
            "使用集合推导式创建集合: {0, 1, 4, 9, 16}\n",
            "空集合: set()\n"
          ]
        }
      ],
      "source": [
        "# 1. 创建集合的多种方式\n",
        "# 方式1：使用花括号\n",
        "fruits = {'apple', 'banana', 'orange'}\n",
        "print(\"使用花括号创建集合:\", fruits)\n",
        "\n",
        "# 方式2：使用set()函数\n",
        "numbers = set([1, 2, 3, 3, 4, 4, 5])  # 注意重复的元素会被自动去除\n",
        "print(\"使用set()函数创建集合:\", numbers)\n",
        "\n",
        "# 方式3：使用集合推导式\n",
        "squares = {x**2 for x in range(5)}\n",
        "print(\"使用集合推导式创建集合:\", squares)\n",
        "\n",
        "# 创建空集合\n",
        "empty_set = set()  # 注意：empty_set = {} 会创建空字典而不是空集合\n",
        "print(\"空集合:\", empty_set)\n"
      ]
    },
    {
      "cell_type": "code",
      "execution_count": null,
      "metadata": {},
      "outputs": [],
      "source": [
        "# 2. 集合的基本操作\n",
        "fruits = {'apple', 'banana', 'orange'}\n",
        "\n",
        "# 添加元素\n",
        "fruits.add('grape')\n",
        "print(\"添加元素后:\", fruits)\n",
        "\n",
        "# 移除元素（两种方式）\n",
        "fruits.remove('banana')  # 如果元素不存在，会报错\n",
        "print(\"使用remove()移除元素后:\", fruits)\n",
        "\n",
        "fruits.discard('orange')  # 如果元素不存在，不会报错\n",
        "print(\"使用discard()移除元素后:\", fruits)\n",
        "\n",
        "# 随机移除并返回一个元素\n",
        "popped = fruits.pop()\n",
        "print(\"弹出的元素:\", popped)\n",
        "print(\"弹出元素后的集合:\", fruits)\n",
        "\n",
        "# 清空集合\n",
        "fruits.clear()\n",
        "print(\"清空后的集合:\", fruits)\n",
        "\n",
        "# 检查元素是否在集合中\n",
        "fruits = {'apple', 'banana', 'orange'}\n",
        "print(\"'apple'是否在集合中:\", 'apple' in fruits)\n",
        "print(\"'grape'是否在集合中:\", 'grape' in fruits)\n"
      ]
    },
    {
      "cell_type": "code",
      "execution_count": null,
      "metadata": {},
      "outputs": [],
      "source": [
        "# 3. 集合的数学运算\n",
        "set1 = {1, 2, 3, 4, 5}\n",
        "set2 = {4, 5, 6, 7, 8}\n",
        "\n",
        "# 并集（两种方式）\n",
        "print(\"并集 using |:\", set1 | set2)\n",
        "print(\"并集 using union():\", set1.union(set2))\n",
        "\n",
        "# 交集（两种方式）\n",
        "print(\"交集 using &:\", set1 & set2)\n",
        "print(\"交集 using intersection():\", set1.intersection(set2))\n",
        "\n",
        "# 差集（两种方式）\n",
        "print(\"差集 using -:\", set1 - set2)  # 在set1中但不在set2中的元素\n",
        "print(\"差集 using difference():\", set1.difference(set2))\n",
        "\n",
        "# 对称差集（两种方式）\n",
        "print(\"对称差集 using ^:\", set1 ^ set2)  # 在set1或set2中，但不同时在两个集合中的元素\n",
        "print(\"对称差集 using symmetric_difference():\", set1.symmetric_difference(set2))\n"
      ]
    },
    {
      "cell_type": "code",
      "execution_count": null,
      "metadata": {},
      "outputs": [],
      "source": [
        "# 4. 集合的比较操作\n",
        "set1 = {1, 2, 3}\n",
        "set2 = {1, 2, 3, 4, 5}\n",
        "set3 = {1, 2, 3}\n",
        "\n",
        "# 子集检查\n",
        "print(\"set1是set2的子集:\", set1 <= set2)  # 使用 <=\n",
        "print(\"set1是set2的子集:\", set1.issubset(set2))  # 使用issubset()\n",
        "\n",
        "# 超集检查\n",
        "print(\"set2是set1的超集:\", set2 >= set1)  # 使用 >=\n",
        "print(\"set2是set1的超集:\", set2.issuperset(set1))  # 使用issuperset()\n",
        "\n",
        "# 相等性检查\n",
        "print(\"set1和set3是否相等:\", set1 == set3)\n",
        "\n",
        "# 检查是否没有共同元素\n",
        "set4 = {7, 8, 9}\n",
        "print(\"set1和set4是否没有共同元素:\", set1.isdisjoint(set4))\n"
      ]
    },
    {
      "cell_type": "code",
      "execution_count": null,
      "metadata": {},
      "outputs": [],
      "source": [
        "# 5. 实际应用示例\n",
        "\n",
        "# 示例1：去除列表中的重复元素\n",
        "numbers = [1, 2, 2, 3, 3, 3, 4, 4, 4, 4]\n",
        "unique_numbers = list(set(numbers))\n",
        "print(\"去除重复后的列表:\", unique_numbers)\n",
        "\n",
        "# 示例2：查找两个列表的共同元素\n",
        "list1 = [1, 2, 3, 4, 5]\n",
        "list2 = [4, 5, 6, 7, 8]\n",
        "common_elements = set(list1) & set(list2)\n",
        "print(\"两个列表的共同元素:\", common_elements)\n",
        "\n",
        "# 示例3：查找独特元素（在list1中但不在list2中的元素）\n",
        "unique_to_list1 = set(list1) - set(list2)\n",
        "print(\"list1独有的元素:\", unique_to_list1)\n",
        "\n",
        "# 示例4：检查是否有重复元素\n",
        "def has_duplicates(lst):\n",
        "    return len(lst) != len(set(lst))\n",
        "\n",
        "test_list = [1, 2, 3, 3, 4, 5]\n",
        "print(\"test_list是否包含重复元素:\", has_duplicates(test_list))\n"
      ]
    }
  ],
  "metadata": {
    "kernelspec": {
      "display_name": "studypytorch",
      "language": "python",
      "name": "python3"
    },
    "language_info": {
      "codemirror_mode": {
        "name": "ipython",
        "version": 3
      },
      "file_extension": ".py",
      "mimetype": "text/x-python",
      "name": "python",
      "nbconvert_exporter": "python",
      "pygments_lexer": "ipython3",
      "version": "3.8.20"
    }
  },
  "nbformat": 4,
  "nbformat_minor": 2
}
