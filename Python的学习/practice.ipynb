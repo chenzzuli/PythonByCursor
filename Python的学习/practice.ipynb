{
 "cells": [
  {
   "cell_type": "code",
   "execution_count": 1,
   "metadata": {},
   "outputs": [
    {
     "name": "stdout",
     "output_type": "stream",
     "text": [
      "Hello123\n",
      "World\n"
     ]
    }
   ],
   "source": [
    "import re;\n",
    "text = 'Hello123, World!'\n",
    "listWord = list(re.findall(r'\\w+', text))\n",
    "for word in listWord:\n",
    "    print(word)"
   ]
  },
  {
   "cell_type": "code",
   "execution_count": 2,
   "metadata": {},
   "outputs": [
    {
     "name": "stdout",
     "output_type": "stream",
     "text": [
      "123\n",
      "085400\n"
     ]
    }
   ],
   "source": [
    "import re;\n",
    "text = 'Hello123, World!085400'\n",
    "lisNum = list(re.findall(r'\\d+', text))\n",
    "for num in lisNum:\n",
    "    print(num)"
   ]
  },
  {
   "cell_type": "code",
   "execution_count": 11,
   "metadata": {},
   "outputs": [
    {
     "name": "stdout",
     "output_type": "stream",
     "text": [
      "chenran\n",
      "chenlin\n",
      "chenhai\n",
      "chenjian\n"
     ]
    }
   ],
   "source": [
    "#匹配以chen开头的字符串\n",
    "import re;\n",
    "text = 'chenran wanghai zhangsan lisi wangwu zhaoliu chenlin chenhai chenjian'\n",
    "nameOfchen = list(re.findall(r'chen\\w+',text))\n",
    "for name in nameOfchen:\n",
    "    print(name)"
   ]
  },
  {
   "cell_type": "code",
   "execution_count": null,
   "metadata": {},
   "outputs": [],
   "source": [
    "#匹配次数\n",
    "import re;\n",
    "text = 'hello 123 hi 4567 hey 89'\n",
    "#*匹配0次或多次\n",
    "print('匹配0次或多次：\\n')\n",
    "print(list(re.findall(r'\\d*',text)))\n",
    "print('匹配1次或多次：\\n')\n",
    "print(list(re.findall(r'\\d+',text)))\n",
    "print('精确匹配n次:')\n",
    "print(list(re.findall(r'\\d{2}',text)))\n",
    "print('精确匹配2-4次：')\n",
    "print(list(re.findall(r'\\d{2,4}',text)))"
   ]
  },
  {
   "cell_type": "code",
   "execution_count": 21,
   "metadata": {},
   "outputs": [
    {
     "name": "stdout",
     "output_type": "stream",
     "text": [
      "匹配abc中的任意一个字母:\n",
      " ['e']\n"
     ]
    }
   ],
   "source": [
    "#字符集和范围\n",
    "import re;\n",
    "text = 'Hello123, World!085400'\n",
    "print('匹配abc中的任意一个字母:\\n',re.findall(r'[abcee]',text))\n",
    "#匹配以Hello开头，以数字结尾的字符串\n",
    "print('匹配以Hello开头，以数字结尾的字符串:\\n',re.findall(r'^Hello\\d+$',text))\n",
    "#匹配以Hello开头，以数字结尾的字符串，中间有任意字符\n",
    "print('匹配以Hello开头，以数字结尾的字符串，中间有任意字符:\\n',re.findall(r'^Hello.*\\d+$',text))\n",
    "#匹配以Hello开头，以数字结尾的字符串，中间有任意字符，但是数字不能为0\n",
    "print('匹配以Hello开头，以数字结尾的字符串，中间有任意字符，但是数字不能为0:\\n',re.findall(r'^Hello.*[1-9]\\d*$',text))\n",
    "#匹配以Hello开头，以数字结尾的字符串，中间有任意字符，但是数字不能为0\n",
    "print('匹配以Hello开头，以数字结尾的字符串，中间有任意字符，但是数字不能为0:\\n',re.findall(r'^Hello.*[1-9]\\d*$',text))\n"
   ]
  },
  {
   "cell_type": "code",
   "execution_count": 29,
   "metadata": {},
   "outputs": [
    {
     "name": "stdout",
     "output_type": "stream",
     "text": [
      "我是陈燃，我今年24岁，我来自中国，我来自郑州轻工业大学!\n"
     ]
    }
   ],
   "source": [
    "#找到符合模式的文本然后进行替换\n",
    "import re;\n",
    "text = '我是陈燃，我今年24岁，我来自中国，我来自南华大学!'\n",
    "textOfsub = re.sub(r'南华大学','郑州轻工业大学',text)\n",
    "print(textOfsub)"
   ]
  },
  {
   "cell_type": "code",
   "execution_count": 30,
   "metadata": {},
   "outputs": [
    {
     "name": "stdout",
     "output_type": "stream",
     "text": [
      "['Hello', 'World', 'Python', 'Java', 'C++']\n"
     ]
    }
   ],
   "source": [
    "#split的用法\n",
    "text = 'Hello,World,Python,Java,C++'\n",
    "print(re.split(r',',text))"
   ]
  },
  {
   "cell_type": "code",
   "execution_count": null,
   "metadata": {},
   "outputs": [],
   "source": [
    "# 用于求解非线性方程组的根，即找到函数输出值为零的输入值。\n",
    "from scipy.optimize import root\n",
    "from math import cos\n",
    "\n",
    "def eqn(x):\n",
    "  return x**2 -2\n",
    "\n",
    "# hybr只会寻找离初始猜测值最近的根。\n",
    "myroot1 = root(eqn, -1)\n",
    "myroot2 = root(eqn, 1)\n",
    "print(myroot1)\n",
    "print('******************************************')\n",
    "print(root(eqn, 1))"
   ]
  },
  {
   "cell_type": "code",
   "execution_count": null,
   "metadata": {},
   "outputs": [],
   "source": [
    "from scipy.optimize import minimize\n",
    "\n",
    "\n",
    "def eqn(x):\n",
    "    return x**2 + x + 2\n",
    "\n",
    "mymin = minimize(eqn, 0, method='BFGS')\n",
    "print(mymin)"
   ]
  },
  {
   "cell_type": "code",
   "execution_count": 3,
   "metadata": {},
   "outputs": [
    {
     "name": "stdout",
     "output_type": "stream",
     "text": [
      "最小值点: -0.5000000004916901\n",
      "最小值: 1.75\n"
     ]
    }
   ],
   "source": [
    "def f(x):\n",
    "    return x**2 + x + 2\n",
    "\n",
    "# 在[-2, 2]范围内寻找最小值\n",
    "result = minimize(f, x0=0, bounds=[(-2, 2)])\n",
    "print(f\"最小值点: {result.x[0]}\")\n",
    "print(f\"最小值: {result.fun}\")"
   ]
  },
  {
   "cell_type": "code",
   "execution_count": 4,
   "metadata": {},
   "outputs": [
    {
     "name": "stdout",
     "output_type": "stream",
     "text": [
      "  (0, 0)\t1\n",
      "  (0, 3)\t2\n",
      "  (1, 1)\t4\n",
      "  (1, 2)\t1\n",
      "  (2, 2)\t5\n",
      "****************************************\n",
      "[[1 0 0 2]\n",
      " [0 4 1 0]\n",
      " [0 0 5 0]]\n"
     ]
    }
   ],
   "source": [
    "# sparse: 稀疏矩阵及相关程序\n",
    "import scipy as sp\n",
    "import numpy as np\n",
    "dense = np.array([[1, 0, 0, 2], [0, 4, 1, 0], [0, 0, 5, 0]])\n",
    "sparse = sp.sparse.coo_array(dense)\n",
    "print(sparse)\n",
    "print('****************************************')\n",
    "print(sparse.todense())"
   ]
  }
 ],
 "metadata": {
  "kernelspec": {
   "display_name": "studypytorch",
   "language": "python",
   "name": "python3"
  },
  "language_info": {
   "codemirror_mode": {
    "name": "ipython",
    "version": 3
   },
   "file_extension": ".py",
   "mimetype": "text/x-python",
   "name": "python",
   "nbconvert_exporter": "python",
   "pygments_lexer": "ipython3",
   "version": "3.8.20"
  }
 },
 "nbformat": 4,
 "nbformat_minor": 2
}
