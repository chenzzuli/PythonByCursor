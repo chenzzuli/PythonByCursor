{
  "cells": [
    {
      "cell_type": "raw",
      "metadata": {
        "vscode": {
          "languageId": "raw"
        }
      },
      "source": [
        "# 矩阵转置详解\n",
        "\n",
        "矩阵转置就是将矩阵的行和列互换。例如：\n",
        "```\n",
        "原矩阵：        转置后：\n",
        "1 2 3          1 4 7\n",
        "4 5 6    →     2 5 8\n",
        "7 8 9          3 6 9\n",
        "```\n"
      ]
    },
    {
      "cell_type": "code",
      "execution_count": 1,
      "metadata": {},
      "outputs": [
        {
          "name": "stdout",
          "output_type": "stream",
          "text": [
            "原始矩阵:\n",
            "[1, 2, 3]\n",
            "[4, 5, 6]\n",
            "[7, 8, 9]\n",
            "\n",
            "*matrix 解包后得到的参数:\n",
            "[1, 2, 3] [4, 5, 6] [7, 8, 9]\n"
          ]
        }
      ],
      "source": [
        "# 1. 首先看看原始矩阵的结构\n",
        "matrix = [\n",
        "    [1, 2, 3],  # 第一行\n",
        "    [4, 5, 6],  # 第二行\n",
        "    [7, 8, 9]   # 第三行\n",
        "]\n",
        "\n",
        "print(\"原始矩阵:\")\n",
        "for row in matrix:\n",
        "    print(row)\n",
        "\n",
        "# 2. 看看*matrix的作用\n",
        "print(\"\\n*matrix 解包后得到的参数:\")\n",
        "print(*matrix)  # 相当于把matrix中的每一行作为独立的参数传递\n"
      ]
    },
    {
      "cell_type": "code",
      "execution_count": null,
      "metadata": {},
      "outputs": [],
      "source": [
        "# 3. 让我们一步步看zip是如何工作的\n",
        "# zip会把传入参数的对应位置元素组合在一起\n",
        "\n",
        "# 第一步：*matrix 解包后，相当于：\n",
        "row1 = [1, 2, 3]\n",
        "row2 = [4, 5, 6]\n",
        "row3 = [7, 8, 9]\n",
        "\n",
        "# zip会这样组合：\n",
        "# - 取每个列表的第一个元素：1,4,7 组成第一个元组\n",
        "# - 取每个列表的第二个元素：2,5,8 组成第二个元组\n",
        "# - 取每个列表的第三个元素：3,6,9 组成第三个元组\n",
        "\n",
        "print(\"zip后的结果:\")\n",
        "transposed = list(zip(row1, row2, row3))\n",
        "print(transposed)\n",
        "\n",
        "# 4. 用更直观的方式打印转置后的矩阵\n",
        "print(\"\\n转置后的矩阵:\")\n",
        "for row in transposed:\n",
        "    print(row)\n"
      ]
    },
    {
      "cell_type": "code",
      "execution_count": 11,
      "metadata": {},
      "outputs": [
        {
          "name": "stdout",
          "output_type": "stream",
          "text": [
            "[(1, 4, 7), (2, 5, 8), (3, 6, 9)]\n"
          ]
        }
      ],
      "source": [
        "# 5. 完整的一行代码实现转置\n",
        "matrix = [\n",
        "    [1, 2, 3],\n",
        "    [4, 5, 6],\n",
        "    [7, 8, 9]\n",
        "]\n",
        "transposed = list(zip(*matrix))\n",
        "print(transposed)\n",
        "\n",
        "\n",
        "\n"
      ]
    },
    {
      "cell_type": "code",
      "execution_count": null,
      "metadata": {},
      "outputs": [],
      "source": [
        "# 原始矩阵\n",
        "matrix = [\n",
        "    [1, 2, 3],\n",
        "    [4, 5, 6],\n",
        "    [7, 8, 9]\n",
        "]\n",
        "\n",
        "# 1. 使用列表推导式将元组转换为列表\n",
        "transposed = [list(row) for row in zip(*matrix)]\n",
        "print(\"方法1 - 使用列表推导式:\")\n",
        "for row in transposed:\n",
        "    print(row)\n",
        "\n",
        "# 2. 使用map函数转换\n",
        "transposed = list(map(list, zip(*matrix)))\n",
        "print(\"\\n方法2 - 使用map函数:\")\n",
        "for row in transposed:\n",
        "    print(row)\n",
        "\n",
        "# 3. 手动循环转换（更容易理解）\n",
        "transposed = []\n",
        "for row in zip(*matrix):\n",
        "    transposed.append(list(row))\n",
        "print(\"\\n方法3 - 使用循环:\")\n",
        "for row in transposed:\n",
        "    print(row)\n"
      ]
    }
  ],
  "metadata": {
    "kernelspec": {
      "display_name": "studypytorch",
      "language": "python",
      "name": "python3"
    },
    "language_info": {
      "codemirror_mode": {
        "name": "ipython",
        "version": 3
      },
      "file_extension": ".py",
      "mimetype": "text/x-python",
      "name": "python",
      "nbconvert_exporter": "python",
      "pygments_lexer": "ipython3",
      "version": "3.8.20"
    }
  },
  "nbformat": 4,
  "nbformat_minor": 2
}
