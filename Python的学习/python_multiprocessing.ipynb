{
  "cells": [
    {
      "cell_type": "raw",
      "metadata": {
        "vscode": {
          "languageId": "raw"
        }
      },
      "source": [
        "# Python多线程和多进程编程\n",
        "\n",
        "在这个教程中，我们将学习Python中的并发编程，包括：\n",
        "1. 多线程（Threading）\n",
        "2. 多进程（Multiprocessing）\n",
        "3. 它们之间的区别和适用场景\n",
        "4. 实际应用案例\n"
      ]
    },
    {
      "cell_type": "raw",
      "metadata": {
        "vscode": {
          "languageId": "raw"
        }
      },
      "source": [
        "## 1. 多线程编程\n",
        "\n",
        "### 什么是线程？\n",
        "线程是程序中最小的执行单元，它们共享相同的内存空间。一个进程可以包含多个线程，这些线程可以并发执行不同的任务。\n",
        "\n",
        "### Python中的GIL（全局解释器锁）\n",
        "需要注意的是，Python中的多线程受到GIL的限制，这意味着在同一时刻只有一个线程可以执行Python代码。这使得Python的多线程在CPU密集型任务中并不能真正实现并行执行。\n",
        "\n",
        "但是，多线程在I/O密集型任务（如文件操作、网络请求等）中仍然非常有用，因为当一个线程在等待I/O时，其他线程可以继续执行。\n"
      ]
    },
    {
      "cell_type": "code",
      "execution_count": 1,
      "metadata": {},
      "outputs": [
        {
          "name": "stdout",
          "output_type": "stream",
          "text": [
            "开始执行多线程程序...\n",
            "线程1 开始工作\n",
            "线程2 开始工作\n",
            "线程2 完成工作\n",
            "线程1 完成工作\n",
            "所有线程执行完毕！\n"
          ]
        }
      ],
      "source": [
        "import threading\n",
        "import time\n",
        "\n",
        "def worker(thread_name, sleep_time):\n",
        "    \"\"\"线程工作函数\"\"\"\n",
        "    print(f\"{thread_name} 开始工作\")\n",
        "    time.sleep(sleep_time)  # 模拟耗时操作\n",
        "    print(f\"{thread_name} 完成工作\")\n",
        "\n",
        "# 创建两个线程\n",
        "thread1 = threading.Thread(target=worker, args=(\"线程1\", 2))\n",
        "thread2 = threading.Thread(target=worker, args=(\"线程2\", 1))\n",
        "\n",
        "# 启动线程\n",
        "print(\"开始执行多线程程序...\")\n",
        "thread1.start()\n",
        "thread2.start()\n",
        "\n",
        "# 等待所有线程完成\n",
        "thread1.join()\n",
        "thread2.join()\n",
        "print(\"所有线程执行完毕！\")\n"
      ]
    },
    {
      "cell_type": "raw",
      "metadata": {
        "vscode": {
          "languageId": "raw"
        }
      },
      "source": [
        "## 2. 多进程编程\n",
        "\n",
        "### 什么是进程？\n",
        "进程是计算机中正在运行的程序的实例，每个进程都有自己独立的内存空间。多进程可以真正实现并行执行，因为每个进程都可以运行在不同的CPU核心上。\n",
        "\n",
        "### 为什么使用多进程？\n",
        "1. 绕过GIL的限制，实现真正的并行计算\n",
        "2. 更好的内存隔离\n",
        "3. 提高CPU密集型任务的性能\n",
        "4. 更好的容错性（一个进程崩溃不会影响其他进程）\n"
      ]
    },
    {
      "cell_type": "code",
      "execution_count": null,
      "metadata": {},
      "outputs": [],
      "source": [
        "from multiprocessing import Process\n",
        "import os\n",
        "\n",
        "def process_worker():\n",
        "    \"\"\"进程工作函数\"\"\"\n",
        "    print(f'子进程启动，进程ID: {os.getpid()}')\n",
        "    # 执行一些计算密集型操作\n",
        "    result = sum(i * i for i in range(10**6))\n",
        "    print(f'子进程 {os.getpid()} 计算完成，结果: {result}')\n",
        "\n",
        "if __name__ == '__main__':\n",
        "    print(f'主进程ID: {os.getpid()}')\n",
        "    \n",
        "    # 创建多个进程\n",
        "    processes = []\n",
        "    for i in range(3):\n",
        "        p = Process(target=process_worker)\n",
        "        processes.append(p)\n",
        "        p.start()\n",
        "    \n",
        "    # 等待所有进程完成\n",
        "    for p in processes:\n",
        "        p.join()\n",
        "    \n",
        "    print('所有进程执行完毕！')\n"
      ]
    },
    {
      "cell_type": "raw",
      "metadata": {
        "vscode": {
          "languageId": "raw"
        }
      },
      "source": [
        "## 3. 进程池（Pool）\n",
        "\n",
        "进程池是一种更高级的多进程使用方式，它可以：\n",
        "1. 限制并发进程的数量\n",
        "2. 自动管理进程的创建和销毁\n",
        "3. 提供更方便的接口来获取进程的返回结果\n",
        "4. 更好地利用系统资源\n"
      ]
    },
    {
      "cell_type": "code",
      "execution_count": null,
      "metadata": {},
      "outputs": [],
      "source": [
        "from multiprocessing import Pool\n",
        "import time\n",
        "\n",
        "def calculate_square(number):\n",
        "    \"\"\"计算平方的函数\"\"\"\n",
        "    time.sleep(1)  # 模拟耗时操作\n",
        "    return number * number\n",
        "\n",
        "if __name__ == '__main__':\n",
        "    numbers = range(1, 11)  # 1到10的数字\n",
        "    \n",
        "    # 创建进程池，使用4个进程\n",
        "    with Pool(4) as pool:\n",
        "        # 使用map方法并行处理数据\n",
        "        results = pool.map(calculate_square, numbers)\n",
        "        \n",
        "        print(\"计算结果：\")\n",
        "        for num, square in zip(numbers, results):\n",
        "            print(f\"{num} 的平方是 {square}\")\n",
        "            \n",
        "    print(\"所有计算完成！\")\n"
      ]
    },
    {
      "cell_type": "raw",
      "metadata": {
        "vscode": {
          "languageId": "raw"
        }
      },
      "source": [
        "## 4. 多线程vs多进程：如何选择？\n",
        "\n",
        "### 使用多线程的场景：\n",
        "1. I/O密集型任务\n",
        "   - 网络请求\n",
        "   - 文件读写\n",
        "   - 数据库操作\n",
        "2. 需要共享数据的场景\n",
        "3. 资源消耗相对较小的任务\n",
        "\n",
        "### 使用多进程的场景：\n",
        "1. CPU密集型任务\n",
        "   - 大量计算\n",
        "   - 图像处理\n",
        "   - 科学计算\n",
        "2. 需要真正并行执行的场景\n",
        "3. 对性能要求较高的任务\n",
        "\n",
        "### 注意事项：\n",
        "1. 多线程由于GIL的限制，不能充分利用多核CPU\n",
        "2. 多进程启动较慢，占用资源较多\n",
        "3. 多进程间数据共享相对复杂\n",
        "4. 需要根据具体任务特点选择合适的并发方式\n"
      ]
    },
    {
      "cell_type": "code",
      "execution_count": null,
      "metadata": {},
      "outputs": [],
      "source": [
        "# 实际案例：比较多线程和多进程在不同场景下的性能\n",
        "\n",
        "import threading\n",
        "import multiprocessing\n",
        "import time\n",
        "import requests\n",
        "import math\n",
        "\n",
        "def io_task():\n",
        "    \"\"\"I/O密集型任务：发送HTTP请求\"\"\"\n",
        "    response = requests.get('https://api.github.com')\n",
        "    return response.status_code\n",
        "\n",
        "def cpu_task():\n",
        "    \"\"\"CPU密集型任务：计算密集型操作\"\"\"\n",
        "    result = 0\n",
        "    for i in range(10**6):\n",
        "        result += math.sqrt(i)\n",
        "    return result\n",
        "\n",
        "def run_tasks(task_func, num_tasks, use_threads=True):\n",
        "    start_time = time.time()\n",
        "    \n",
        "    if use_threads:\n",
        "        workers = [threading.Thread(target=task_func) for _ in range(num_tasks)]\n",
        "    else:\n",
        "        workers = [multiprocessing.Process(target=task_func) for _ in range(num_tasks)]\n",
        "    \n",
        "    for w in workers:\n",
        "        w.start()\n",
        "    for w in workers:\n",
        "        w.join()\n",
        "        \n",
        "    end_time = time.time()\n",
        "    return end_time - start_time\n",
        "\n",
        "if __name__ == '__main__':\n",
        "    num_tasks = 4\n",
        "    \n",
        "    # 测试I/O密集型任务\n",
        "    print(\"I/O密集型任务测试：\")\n",
        "    thread_time = run_tasks(io_task, num_tasks, use_threads=True)\n",
        "    process_time = run_tasks(io_task, num_tasks, use_threads=False)\n",
        "    print(f\"多线程耗时: {thread_time:.2f}秒\")\n",
        "    print(f\"多进程耗时: {process_time:.2f}秒\")\n",
        "    \n",
        "    print(\"\\nCPU密集型任务测试：\")\n",
        "    thread_time = run_tasks(cpu_task, num_tasks, use_threads=True)\n",
        "    process_time = run_tasks(cpu_task, num_tasks, use_threads=False)\n",
        "    print(f\"多线程耗时: {thread_time:.2f}秒\")\n",
        "    print(f\"多进程耗时: {process_time:.2f}秒\")\n"
      ]
    },
    {
      "cell_type": "raw",
      "metadata": {
        "vscode": {
          "languageId": "raw"
        }
      },
      "source": [
        "# join() 方法详解\n",
        "\n",
        "`join()` 方法是多线程和多进程编程中的一个重要函数，它有以下关键作用：\n",
        "\n",
        "1. **阻塞等待**\n",
        "   - 调用 `join()` 的线程/进程会等待被调用的线程/进程结束后才继续执行\n",
        "   - 可以理解为\"等待汇合\"的意思\n",
        "\n",
        "2. **同步机制**\n",
        "   - 确保主程序在子线程/子进程完成前不会结束\n",
        "   - 防止主程序过早退出导致任务未完成\n",
        "\n",
        "3. **资源回收**\n",
        "   - 帮助系统正确回收线程/进程占用的资源\n",
        "   - 避免出现\"僵尸进程\"或资源泄露\n"
      ]
    },
    {
      "cell_type": "code",
      "execution_count": 4,
      "metadata": {},
      "outputs": [
        {
          "name": "stdout",
          "output_type": "stream",
          "text": [
            "=== 不使用join()的情况 ===\n",
            "线程A 开始工作\n",
            "主程序结束\n",
            "\n",
            "=== 使用join()的情况 ===\n",
            "线程B 开始工作\n",
            "线程A 完成工作线程B 完成工作\n",
            "主程序结束\n",
            "\n"
          ]
        }
      ],
      "source": [
        "# 演示join()的作用\n",
        "import threading\n",
        "import time\n",
        "\n",
        "def worker(name, sleep_time):\n",
        "    print(f\"{name} 开始工作\")\n",
        "    time.sleep(sleep_time)\n",
        "    print(f\"{name} 完成工作\")\n",
        "\n",
        "# 不使用join()的情况\n",
        "print(\"=== 不使用join()的情况 ===\")\n",
        "thread1 = threading.Thread(target=worker, args=(\"线程A\", 2))\n",
        "thread1.start()\n",
        "print(\"主程序结束\")\n",
        "\n",
        "# 使用join()的情况\n",
        "print(\"\\n=== 使用join()的情况 ===\")\n",
        "thread2 = threading.Thread(target=worker, args=(\"线程B\", 2))\n",
        "thread2.start()\n",
        "thread2.join()  # 等待线程B完成\n",
        "print(\"主程序结束\")\n"
      ]
    },
    {
      "cell_type": "raw",
      "metadata": {
        "vscode": {
          "languageId": "raw"
        }
      },
      "source": [
        "### 运行结果分析\n",
        "\n",
        "当你运行上面的代码，你会看到两种不同的情况：\n",
        "\n",
        "1. **不使用join()时**：\n",
        "   - 主程序不会等待线程A完成\n",
        "   - \"主程序结束\"的消息可能在线程A完成工作之前就打印出来\n",
        "   - 这可能导致程序过早退出，任务未完成\n",
        "\n",
        "2. **使用join()时**：\n",
        "   - 主程序会等待线程B完成后才继续执行\n",
        "   - \"主程序结束\"的消息一定会在线程B完成工作后才打印\n",
        "   - 确保了任务的完整执行\n",
        "\n",
        "### 实际应用场景\n",
        "1. 数据处理：确保所有数据处理线程完成后再进行结果汇总\n",
        "2. 文件操作：等待所有文件处理完成后再关闭程序\n",
        "3. 网络请求：等待所有API请求完成后再处理响应数据\n"
      ]
    },
    {
      "cell_type": "raw",
      "metadata": {
        "vscode": {
          "languageId": "raw"
        }
      },
      "source": [
        "# 实际工作应用场景\n",
        "\n",
        "## 1. 多线程应用场景\n",
        "\n",
        "### 1.1 网络爬虫\n",
        "- 并发爬取多个网页\n",
        "- 同时下载多个文件\n",
        "- 处理多个API请求\n",
        "\n",
        "### 1.2 GUI应用程序\n",
        "- 保持界面响应\n",
        "- 后台数据处理\n",
        "- 进度条更新\n",
        "\n",
        "### 1.3 文件操作\n",
        "- 并发读写多个文件\n",
        "- 日志记录\n",
        "- 文件监控\n",
        "\n",
        "## 2. 多进程应用场景\n",
        "\n",
        "### 2.1 图像处理\n",
        "- 批量图片处理\n",
        "- 视频编码\n",
        "- 图像识别\n",
        "\n",
        "### 2.2 数据分析\n",
        "- 大数据处理\n",
        "- 并行计算\n",
        "- 科学计算\n",
        "\n",
        "### 2.3 服务器应用\n",
        "- Web服务器\n",
        "- 数据库服务\n",
        "- 任务调度系统\n"
      ]
    },
    {
      "cell_type": "code",
      "execution_count": null,
      "metadata": {},
      "outputs": [],
      "source": [
        "# 示例1：多线程网络爬虫\n",
        "import threading\n",
        "import requests\n",
        "import time\n",
        "\n",
        "def download_page(url, name):\n",
        "    \"\"\"下载网页内容\"\"\"\n",
        "    print(f\"开始下载 {name}\")\n",
        "    response = requests.get(url)\n",
        "    print(f\"{name} 下载完成，状态码：{response.status_code}\")\n",
        "\n",
        "# 要爬取的网页列表\n",
        "urls = [\n",
        "    (\"https://www.python.org\", \"Python官网\"),\n",
        "    (\"https://www.github.com\", \"GitHub\"),\n",
        "    (\"https://www.stackoverflow.com\", \"Stack Overflow\")\n",
        "]\n",
        "\n",
        "# 创建线程列表\n",
        "threads = []\n",
        "start_time = time.time()\n",
        "\n",
        "# 启动所有线程\n",
        "for url, name in urls:\n",
        "    thread = threading.Thread(target=download_page, args=(url, name))\n",
        "    threads.append(thread)\n",
        "    thread.start()\n",
        "\n",
        "# 等待所有线程完成\n",
        "for thread in threads:\n",
        "    thread.join()\n",
        "\n",
        "end_time = time.time()\n",
        "print(f\"\\n所有页面下载完成！总耗时：{end_time - start_time:.2f}秒\")\n"
      ]
    },
    {
      "cell_type": "code",
      "execution_count": null,
      "metadata": {},
      "outputs": [],
      "source": [
        "# 示例2：多进程图像处理\n",
        "from multiprocessing import Pool\n",
        "from PIL import Image\n",
        "import os\n",
        "\n",
        "def process_image(image_path):\n",
        "    \"\"\"处理单张图片：调整大小和添加水印\"\"\"\n",
        "    try:\n",
        "        # 打开图片\n",
        "        with Image.open(image_path) as img:\n",
        "            # 调整大小\n",
        "            resized_img = img.resize((800, 600))\n",
        "            \n",
        "            # 创建输出文件名\n",
        "            filename = os.path.basename(image_path)\n",
        "            output_path = f\"processed_{filename}\"\n",
        "            \n",
        "            # 保存处理后的图片\n",
        "            resized_img.save(output_path)\n",
        "            print(f\"处理完成: {filename}\")\n",
        "            \n",
        "    except Exception as e:\n",
        "        print(f\"处理图片 {image_path} 时出错: {str(e)}\")\n",
        "\n",
        "def batch_process_images(image_folder):\n",
        "    \"\"\"批量处理文件夹中的图片\"\"\"\n",
        "    # 获取所有图片文件\n",
        "    image_files = [f for f in os.listdir(image_folder) \n",
        "                  if f.lower().endswith(('.png', '.jpg', '.jpeg'))]\n",
        "    \n",
        "    # 创建进程池\n",
        "    with Pool(processes=4) as pool:\n",
        "        # 使用进程池处理图片\n",
        "        image_paths = [os.path.join(image_folder, img) for img in image_files]\n",
        "        pool.map(process_image, image_paths)\n",
        "\n",
        "# 使用示例\n",
        "if __name__ == '__main__':\n",
        "    # 替换为实际的图片文件夹路径\n",
        "    image_folder = \"images\"\n",
        "    if os.path.exists(image_folder):\n",
        "        print(\"开始批量处理图片...\")\n",
        "        batch_process_images(image_folder)\n",
        "        print(\"所有图片处理完成！\")\n",
        "    else:\n",
        "        print(f\"文件夹 {image_folder} 不存在\")\n"
      ]
    },
    {
      "cell_type": "code",
      "execution_count": null,
      "metadata": {},
      "outputs": [],
      "source": [
        "# 示例3：多线程文件监控系统\n",
        "import threading\n",
        "import time\n",
        "import os\n",
        "from datetime import datetime\n",
        "\n",
        "class FileMonitor:\n",
        "    def __init__(self, folder_path):\n",
        "        self.folder_path = folder_path\n",
        "        self.files_info = {}\n",
        "        self.running = True\n",
        "        \n",
        "    def monitor_files(self):\n",
        "        \"\"\"监控文件变化\"\"\"\n",
        "        while self.running:\n",
        "            current_files = {}\n",
        "            \n",
        "            # 获取文件夹中所有文件的信息\n",
        "            for filename in os.listdir(self.folder_path):\n",
        "                filepath = os.path.join(self.folder_path, filename)\n",
        "                if os.path.isfile(filepath):\n",
        "                    current_files[filename] = os.path.getmtime(filepath)\n",
        "            \n",
        "            # 检查新文件\n",
        "            for filename, mtime in current_files.items():\n",
        "                if filename not in self.files_info:\n",
        "                    print(f\"[{datetime.now()}] 新文件创建: {filename}\")\n",
        "                elif mtime != self.files_info[filename]:\n",
        "                    print(f\"[{datetime.now()}] 文件被修改: {filename}\")\n",
        "            \n",
        "            # 检查删除的文件\n",
        "            for filename in list(self.files_info.keys()):\n",
        "                if filename not in current_files:\n",
        "                    print(f\"[{datetime.now()}] 文件被删除: {filename}\")\n",
        "            \n",
        "            # 更新文件信息\n",
        "            self.files_info = current_files\n",
        "            time.sleep(1)  # 每秒检查一次\n",
        "    \n",
        "    def start_monitoring(self):\n",
        "        \"\"\"启动监控线程\"\"\"\n",
        "        self.monitor_thread = threading.Thread(target=self.monitor_files)\n",
        "        self.monitor_thread.start()\n",
        "        print(f\"开始监控文件夹: {self.folder_path}\")\n",
        "    \n",
        "    def stop_monitoring(self):\n",
        "        \"\"\"停止监控\"\"\"\n",
        "        self.running = False\n",
        "        self.monitor_thread.join()\n",
        "        print(\"停止监控\")\n",
        "\n",
        "# 使用示例\n",
        "if __name__ == '__main__':\n",
        "    # 替换为要监控的文件夹路径\n",
        "    monitor_folder = \".\"\n",
        "    \n",
        "    monitor = FileMonitor(monitor_folder)\n",
        "    try:\n",
        "        monitor.start_monitoring()\n",
        "        # 运行一段时间后停止（示例中设置为30秒）\n",
        "        time.sleep(30)\n",
        "    finally:\n",
        "        monitor.stop_monitoring()\n"
      ]
    },
    {
      "cell_type": "raw",
      "metadata": {
        "vscode": {
          "languageId": "raw"
        }
      },
      "source": [
        "# if __name__ == '__main__': 详解\n",
        "\n",
        "## 1. 基本概念\n",
        "- `__name__` 是Python中的一个特殊变量\n",
        "- 当直接运行一个Python文件时，`__name__` 的值为 `'__main__'`\n",
        "- 当这个文件被当作模块导入时，`__name__` 的值为模块的名称\n",
        "\n",
        "## 2. 主要作用\n",
        "1. **区分脚本的运行方式**\n",
        "   - 直接运行：作为主程序执行\n",
        "   - 被导入：作为模块供其他程序使用\n",
        "\n",
        "2. **防止代码被意外执行**\n",
        "   - 只有直接运行文件时才执行特定代码块\n",
        "   - 被导入时不会执行这些代码\n",
        "\n",
        "3. **多进程编程中特别重要**\n",
        "   - 防止无限递归创建新进程\n",
        "   - 确保入口代码只在主进程中执行\n"
      ]
    },
    {
      "cell_type": "code",
      "execution_count": null,
      "metadata": {},
      "outputs": [],
      "source": [
        "# 示例1：展示__name__变量的值\n",
        "\n",
        "# 创建一个简单的函数\n",
        "def hello():\n",
        "    print(\"Hello from function!\")\n",
        "    print(f\"当前模块的__name__值是: {__name__}\")\n",
        "\n",
        "# 主程序代码\n",
        "if __name__ == '__main__':\n",
        "    print(\"这段代码正在被直接运行\")\n",
        "    print(f\"主程序中__name__的值是: {__name__}\")\n",
        "    hello()\n",
        "else:\n",
        "    print(\"这个文件被当作模块导入了\")\n",
        "    print(f\"被导入时__name__的值是: {__name__}\")\n"
      ]
    },
    {
      "cell_type": "code",
      "execution_count": null,
      "metadata": {},
      "outputs": [],
      "source": [
        "# 示例2：在多进程编程中的重要性\n",
        "from multiprocessing import Process\n",
        "\n",
        "def worker():\n",
        "    print(\"工作进程正在运行\")\n",
        "\n",
        "# 不使用 if __name__ == '__main__': 可能导致问题\n",
        "def wrong_way():\n",
        "    p = Process(target=worker)\n",
        "    p.start()\n",
        "    p.join()\n",
        "\n",
        "# 正确的方式\n",
        "if __name__ == '__main__':\n",
        "    print(\"主进程开始\")\n",
        "    p = Process(target=worker)\n",
        "    p.start()\n",
        "    p.join()\n",
        "    print(\"主进程结束\")\n"
      ]
    },
    {
      "cell_type": "raw",
      "metadata": {
        "vscode": {
          "languageId": "raw"
        }
      },
      "source": [
        "## 为什么在多进程编程中特别重要？\n",
        "\n",
        "1. **避免递归创建进程**\n",
        "   - 如果不使用这个判断，每个子进程可能会再次执行整个脚本\n",
        "   - 可能导致无限递归创建新进程\n",
        "   - 最终导致系统资源耗尽\n",
        "\n",
        "2. **确保代码只在主进程中执行**\n",
        "   - 某些初始化代码只需要在主进程中执行一次\n",
        "   - 避免在子进程中重复执行不必要的代码\n",
        "   - 防止出现意外的行为\n",
        "\n",
        "3. **实际应用场景**\n",
        "   - 启动服务器程序\n",
        "   - 初始化数据库连接\n",
        "   - 配置日志系统\n",
        "   - 创建进程池\n",
        "\n",
        "## 最佳实践\n",
        "1. 将主程序代码放在 `if __name__ == '__main__':` 下\n",
        "2. 将可重用的函数和类定义放在外面\n",
        "3. 在多进程程序中必须使用这个判断\n",
        "4. 养成在每个可执行脚本中添加这个判断的习惯\n"
      ]
    }
  ],
  "metadata": {
    "kernelspec": {
      "display_name": "studypytorch",
      "language": "python",
      "name": "python3"
    },
    "language_info": {
      "codemirror_mode": {
        "name": "ipython",
        "version": 3
      },
      "file_extension": ".py",
      "mimetype": "text/x-python",
      "name": "python",
      "nbconvert_exporter": "python",
      "pygments_lexer": "ipython3",
      "version": "3.8.20"
    }
  },
  "nbformat": 4,
  "nbformat_minor": 2
}
