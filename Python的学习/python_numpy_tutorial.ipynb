{
  "cells": [
    {
      "cell_type": "raw",
      "metadata": {
        "vscode": {
          "languageId": "raw"
        }
      },
      "source": [
        "# NumPy入门教程\n",
        "\n",
        "NumPy（Numerical Python）是Python中用于科学计算的基础库，它提供了：\n",
        "- 多维数组对象\n",
        "- 各种派生对象\n",
        "- 用于数组快速操作的各种例程\n",
        "\n",
        "## 学习路线\n",
        "1. NumPy基础\n",
        "2. 数组创建和操作\n",
        "3. 数学运算和统计\n",
        "4. 数组形状操作\n",
        "5. 实际应用案例\n"
      ]
    },
    {
      "cell_type": "code",
      "execution_count": null,
      "metadata": {},
      "outputs": [],
      "source": [
        "# 首先导入NumPy库\n",
        "import numpy as np\n",
        "\n",
        "# 1. 创建简单数组\n",
        "print(\"1. 创建数组：\")\n",
        "# 从列表创建数组\n",
        "arr1 = np.array([1, 2, 3, 4, 5])\n",
        "print(\"一维数组:\", arr1)\n",
        "\n",
        "# 创建二维数组\n",
        "arr2 = np.array([[1, 2, 3], [4, 5, 6]])\n",
        "print(\"\\n二维数组:\\n\", arr2)\n",
        "\n",
        "# 查看数组属性\n",
        "print(\"\\n数组属性：\")\n",
        "print(\"维度:\", arr2.ndim)\n",
        "print(\"形状:\", arr2.shape)\n",
        "print(\"数据类型:\", arr2.dtype)\n"
      ]
    },
    {
      "cell_type": "code",
      "execution_count": null,
      "metadata": {},
      "outputs": [],
      "source": [
        "# 2. 特殊数组创建\n",
        "print(\"2. 特殊数组创建：\")\n",
        "\n",
        "# 创建全0数组\n",
        "zeros = np.zeros((3, 3))\n",
        "print(\"全0数组:\\n\", zeros)\n",
        "\n",
        "# 创建全1数组\n",
        "ones = np.ones((2, 4))\n",
        "print(\"\\n全1数组:\\n\", ones)\n",
        "\n",
        "# 创建单位矩阵\n",
        "identity = np.eye(3)\n",
        "print(\"\\n单位矩阵:\\n\", identity)\n",
        "\n",
        "# 创建等差数列\n",
        "arange = np.arange(0, 10, 2)  # 从0到10，步长为2\n",
        "print(\"\\n等差数列:\", arange)\n",
        "\n",
        "# 创建线性等分数组\n",
        "linspace = np.linspace(0, 1, 5)  # 0到1之间5个等距点\n",
        "print(\"\\n线性等分数组:\", linspace)\n"
      ]
    },
    {
      "cell_type": "code",
      "execution_count": null,
      "metadata": {},
      "outputs": [],
      "source": [
        "# 3. 基本数组操作\n",
        "print(\"3. 基本数组操作：\")\n",
        "\n",
        "# 创建示例数组\n",
        "arr = np.array([[1, 2, 3], [4, 5, 6], [7, 8, 9]])\n",
        "print(\"原始数组:\\n\", arr)\n",
        "\n",
        "# 索引和切片\n",
        "print(\"\\n获取元素[1,1]:\", arr[1,1])  # 获取第2行第2列的元素\n",
        "print(\"第一行:\", arr[0])  # 获取第一行\n",
        "print(\"\\n前两行:\\n\", arr[:2])  # 获取前两行\n",
        "print(\"\\n所有行的第二列:\", arr[:,1])  # 获取第二列\n",
        "\n",
        "# 数组运算\n",
        "print(\"\\n数组运算：\")\n",
        "print(\"数组加5:\\n\", arr + 5)  # 广播运算\n",
        "print(\"\\n数组乘2:\\n\", arr * 2)\n",
        "print(\"\\n数组平方:\\n\", arr ** 2)\n",
        "\n",
        "# 数组比较\n",
        "print(\"\\n数组比较（大于5的元素）:\\n\", arr > 5)\n",
        "print(\"大于5的元素:\\n\", arr[arr > 5])\n"
      ]
    },
    {
      "cell_type": "code",
      "execution_count": null,
      "metadata": {},
      "outputs": [],
      "source": [
        "import numpy as np\n",
        "# 4. 数组形状操作\n",
        "print(\"4. 数组形状操作：\")\n",
        "\n",
        "# 创建示例数组\n",
        "arr = np.arange(12)  # 创建0-11的数组\n",
        "print(\"原始数组:\", arr)\n",
        "\n",
        "# 改变形状，将一个一维数组变为二维数组用reshape\n",
        "arr_2d = arr.reshape(3, 4)  # 改变为3行4列\n",
        "print(\"\\n重塑为3x4数组:\\n\", arr_2d)\n",
        "\n",
        "# 转置\n",
        "print(\"\\n转置数组:\\n\", arr_2d.T)\n",
        "\n",
        "# 展平数组\n",
        "print(\"\\n展平数组:\", arr_2d.flatten())\n",
        "\n",
        "# 垂直和水平堆叠\n",
        "a = np.array([1, 2, 3])\n",
        "b = np.array([4, 5, 6])\n",
        "print(\"\\n垂直堆叠:\\n\", np.vstack((a, b)))\n",
        "print(\"\\n水平堆叠:\", np.hstack((a, b)))\n"
      ]
    },
    {
      "cell_type": "code",
      "execution_count": null,
      "metadata": {},
      "outputs": [],
      "source": [
        "# 5. 数学和统计操作\n",
        "print(\"5. 数学和统计操作：\")\n",
        "\n",
        "# 创建示例数组\n",
        "arr = np.array([[1, 2, 3], [4, 5, 6], [7, 8, 9]])\n",
        "print(\"原始数组:\\n\", arr)\n",
        "\n",
        "# 基本统计\n",
        "print(\"\\n统计信息：\")\n",
        "print(\"最小值:\", arr.min())\n",
        "print(\"最大值:\", arr.max())\n",
        "print(\"平均值:\", arr.mean())\n",
        "print(\"标准差:\", arr.std())\n",
        "print(\"总和:\", arr.sum())\n",
        "# 按轴操作\n",
        "print(\"\\n按行计算总和:\", arr.sum(axis=1))  # axis=1表示按行\n",
        "print(\"按列计算平均值:\", arr.mean(axis=0))  # axis=0表示按列\n",
        "\n",
        "# 数学运算\n",
        "print(\"\\n数学运算：\")\n",
        "print(\"指数运算:\\n\", np.exp(arr))  # e的幂次方\n",
        "print(\"\\n平方根:\\n\", np.sqrt(arr))  # 平方根\n",
        "print(\"\\n对数:\\n\", np.log(arr))  # 自然对数\n"
      ]
    },
    {
      "cell_type": "code",
      "execution_count": 4,
      "metadata": {},
      "outputs": [
        {
          "name": "stdout",
          "output_type": "stream",
          "text": [
            "原始图像数组:\n",
            " [[0. 0. 0. 0. 0.]\n",
            " [0. 1. 1. 1. 0.]\n",
            " [0. 1. 1. 1. 0.]\n",
            " [0. 1. 1. 1. 0.]\n",
            " [0. 0. 0. 0. 0.]]\n",
            "\n",
            "旋转后的图像数组:\n",
            " [[0. 0. 0. 0. 0.]\n",
            " [0. 1. 1. 1. 0.]\n",
            " [0. 1. 1. 1. 0.]\n",
            " [0. 1. 1. 1. 0.]\n",
            " [0. 0. 0. 0. 0.]]\n"
          ]
        },
        {
          "name": "stderr",
          "output_type": "stream",
          "text": [
            "c:\\Users\\20412\\.conda\\envs\\studypytorch\\lib\\site-packages\\IPython\\core\\pylabtools.py:152: UserWarning: Glyph 21407 (\\N{CJK UNIFIED IDEOGRAPH-539F}) missing from current font.\n",
            "  fig.canvas.print_figure(bytes_io, **kw)\n",
            "c:\\Users\\20412\\.conda\\envs\\studypytorch\\lib\\site-packages\\IPython\\core\\pylabtools.py:152: UserWarning: Glyph 22987 (\\N{CJK UNIFIED IDEOGRAPH-59CB}) missing from current font.\n",
            "  fig.canvas.print_figure(bytes_io, **kw)\n",
            "c:\\Users\\20412\\.conda\\envs\\studypytorch\\lib\\site-packages\\IPython\\core\\pylabtools.py:152: UserWarning: Glyph 22270 (\\N{CJK UNIFIED IDEOGRAPH-56FE}) missing from current font.\n",
            "  fig.canvas.print_figure(bytes_io, **kw)\n",
            "c:\\Users\\20412\\.conda\\envs\\studypytorch\\lib\\site-packages\\IPython\\core\\pylabtools.py:152: UserWarning: Glyph 20687 (\\N{CJK UNIFIED IDEOGRAPH-50CF}) missing from current font.\n",
            "  fig.canvas.print_figure(bytes_io, **kw)\n",
            "c:\\Users\\20412\\.conda\\envs\\studypytorch\\lib\\site-packages\\IPython\\core\\pylabtools.py:152: UserWarning: Glyph 26059 (\\N{CJK UNIFIED IDEOGRAPH-65CB}) missing from current font.\n",
            "  fig.canvas.print_figure(bytes_io, **kw)\n",
            "c:\\Users\\20412\\.conda\\envs\\studypytorch\\lib\\site-packages\\IPython\\core\\pylabtools.py:152: UserWarning: Glyph 36716 (\\N{CJK UNIFIED IDEOGRAPH-8F6C}) missing from current font.\n",
            "  fig.canvas.print_figure(bytes_io, **kw)\n",
            "c:\\Users\\20412\\.conda\\envs\\studypytorch\\lib\\site-packages\\IPython\\core\\pylabtools.py:152: UserWarning: Glyph 21518 (\\N{CJK UNIFIED IDEOGRAPH-540E}) missing from current font.\n",
            "  fig.canvas.print_figure(bytes_io, **kw)\n",
            "c:\\Users\\20412\\.conda\\envs\\studypytorch\\lib\\site-packages\\IPython\\core\\pylabtools.py:152: UserWarning: Glyph 30340 (\\N{CJK UNIFIED IDEOGRAPH-7684}) missing from current font.\n",
            "  fig.canvas.print_figure(bytes_io, **kw)\n"
          ]
        },
        {
          "data": {
            "image/png": "[encoded data removed]",
            "text/plain": [
              "<Figure size 1000x500 with 2 Axes>"
            ]
          },
          "metadata": {},
          "output_type": "display_data"
        }
      ],
      "source": [
        "# 6. 实际应用示例：图像处理\n",
        "import numpy as np\n",
        "import matplotlib.pyplot as plt\n",
        "\n",
        "# 创建简单图像（灰度图）\n",
        "image = np.zeros((5, 5))  # 5x5的黑色图像\n",
        "image[1:4, 1:4] = 1  # 中间区域设为白色\n",
        "print(\"原始图像数组:\\n\", image)\n",
        "\n",
        "# 图像旋转\n",
        "rotated = np.rot90(image)  # 逆时针旋转90度\n",
        "print(\"\\n旋转后的图像数组:\\n\", rotated)\n",
        "\n",
        "# 显示图像\n",
        "plt.figure(figsize=(10, 5))\n",
        "\n",
        "plt.subplot(121)\n",
        "plt.imshow(image, cmap='gray')\n",
        "plt.title('原始图像')\n",
        "\n",
        "plt.subplot(122)\n",
        "plt.imshow(rotated, cmap='gray')\n",
        "plt.title('旋转后的图像')\n",
        "\n",
        "plt.show()\n"
      ]
    },
    {
      "cell_type": "raw",
      "metadata": {
        "vscode": {
          "languageId": "raw"
        }
      },
      "source": [
        "# NumPy使用技巧和注意事项\n",
        "\n",
        "## 1. 性能优化\n",
        "- 尽量使用NumPy的内置函数而不是Python循环\n",
        "- 使用广播机制进行运算\n",
        "- 避免频繁改变数组大小\n",
        "\n",
        "## 2. 内存管理\n",
        "- 大型数组操作时注意内存使用\n",
        "- 使用适当的数据类型（如float32代替float64）\n",
        "- 及时删除不需要的大数组\n",
        "\n",
        "## 3. 常见陷阱\n",
        "- 数组切片是视图而不是副本\n",
        "- 注意广播规则\n",
        "- 小心浮点数精度问题\n",
        "\n",
        "## 4. 实际应用领域\n",
        "- 数据分析和处理\n",
        "- 科学计算\n",
        "- 图像处理\n",
        "- 机器学习\n",
        "- 金融分析\n"
      ]
    },
    {
      "cell_type": "raw",
      "metadata": {
        "vscode": {
          "languageId": "raw"
        }
      },
      "source": [
        "# 理解NumPy数组的形状（Shape）\n",
        "\n",
        "数组的形状是描述数组维度的元组，表示数组在每个维度上的长度。\n",
        "\n",
        "## 形状的表示方式：\n",
        "1. 一维数组：(n,) - 表示有n个元素\n",
        "2. 二维数组：(m,n) - 表示m行n列\n",
        "3. 三维数组：(l,m,n) - 表示l层，每层m行n列\n",
        "\n",
        "## 为什么要关注形状？\n",
        "1. 帮助理解数据结构\n",
        "2. 进行数组运算时需要匹配形状\n",
        "3. 数据处理和变换时需要考虑形状\n"
      ]
    },
    {
      "cell_type": "code",
      "execution_count": null,
      "metadata": {},
      "outputs": [],
      "source": [
        "# 演示不同维度数组的形状\n",
        "import numpy as np\n",
        "\n",
        "# 1. 一维数组\n",
        "arr_1d = np.array([1, 2, 3, 4])\n",
        "print(\"一维数组:\")\n",
        "print(\"数组:\", arr_1d)\n",
        "print(\"形状:\", arr_1d.shape)  # 输出: (4,)\n",
        "print(\"维度:\", arr_1d.ndim)   # 输出: 1\n",
        "\n",
        "# 2. 二维数组\n",
        "arr_2d = np.array([[1, 2, 3],\n",
        "                   [4, 5, 6]])\n",
        "print(\"\\n二维数组:\")\n",
        "print(\"数组:\\n\", arr_2d)\n",
        "print(\"形状:\", arr_2d.shape)  # 输出: (2, 3) - 2行3列\n",
        "print(\"维度:\", arr_2d.ndim)   # 输出: 2\n",
        "\n",
        "# 3. 三维数组\n",
        "arr_3d = np.array([[[1, 2], [3, 4]],\n",
        "                   [[5, 6], [7, 8]]])\n",
        "print(\"\\n三维数组:\")\n",
        "print(\"数组:\\n\", arr_3d)\n",
        "print(\"形状:\", arr_3d.shape)  # 输出: (2, 2, 2) - 2层，每层2行2列\n",
        "print(\"维度:\", arr_3d.ndim)   # 输出: 3\n"
      ]
    },
    {
      "cell_type": "code",
      "execution_count": null,
      "metadata": {},
      "outputs": [],
      "source": [
        "# 形状操作示例\n",
        "import numpy as np\n",
        "\n",
        "# 创建一个一维数组\n",
        "arr = np.array([1, 2, 3, 4, 5, 6])\n",
        "print(\"原始一维数组:\", arr)\n",
        "print(\"原始形状:\", arr.shape)\n",
        "\n",
        "# 1. 改变形状为2行3列\n",
        "reshaped_2d = arr.reshape(2, 3)\n",
        "print(\"\\n改变为2行3列:\")\n",
        "print(reshaped_2d)\n",
        "print(\"新形状:\", reshaped_2d.shape)\n",
        "\n",
        "# 2. 自动计算维度（使用-1）\n",
        "reshaped_auto = arr.reshape(3, -1)  # 3行，列数自动计算\n",
        "print(\"\\n指定3行，列数自动计算:\")\n",
        "print(reshaped_auto)\n",
        "print(\"新形状:\", reshaped_auto.shape)\n",
        "\n",
        "# 3. 展平数组（变成一维）\n",
        "flattened = reshaped_2d.flatten()\n",
        "print(\"\\n展平后的数组:\")\n",
        "print(flattened)\n",
        "print(\"展平后的形状:\", flattened.shape)\n"
      ]
    }
  ],
  "metadata": {
    "kernelspec": {
      "display_name": "studypytorch",
      "language": "python",
      "name": "python3"
    },
    "language_info": {
      "codemirror_mode": {
        "name": "ipython",
        "version": 3
      },
      "file_extension": ".py",
      "mimetype": "text/x-python",
      "name": "python",
      "nbconvert_exporter": "python",
      "pygments_lexer": "ipython3",
      "version": "3.8.20"
    }
  },
  "nbformat": 4,
  "nbformat_minor": 2
}
