{
 "cells": [
  {
   "cell_type": "code",
   "execution_count": 7,
   "metadata": {},
   "outputs": [
    {
     "data": {
      "text/plain": [
       "3"
      ]
     },
     "execution_count": 7,
     "metadata": {},
     "output_type": "execute_result"
    }
   ],
   "source": [
    "1 + 2 # 1 plus 2"
   ]
  },
  {
   "cell_type": "code",
   "execution_count": 8,
   "metadata": {},
   "outputs": [
    {
     "data": {
      "text/plain": [
       "28"
      ]
     },
     "execution_count": 8,
     "metadata": {},
     "output_type": "execute_result"
    }
   ],
   "source": [
    "7*4"
   ]
  },
  {
   "cell_type": "code",
   "execution_count": 9,
   "metadata": {},
   "outputs": [
    {
     "data": {
      "text/plain": [
       "'dogcat'"
      ]
     },
     "execution_count": 9,
     "metadata": {},
     "output_type": "execute_result"
    }
   ],
   "source": [
    "animalOne = 'dog'\n",
    "animalTwo = 'cat'\n",
    "animalOne + animalTwo"
   ]
  },
  {
   "cell_type": "code",
   "execution_count": 10,
   "metadata": {},
   "outputs": [
    {
     "data": {
      "text/plain": [
       "'dogdogdogdog'"
      ]
     },
     "execution_count": 10,
     "metadata": {},
     "output_type": "execute_result"
    }
   ],
   "source": [
    "animalOne = 'dog'\n",
    "animalOne*4"
   ]
  },
  {
   "cell_type": "code",
   "execution_count": null,
   "metadata": {},
   "outputs": [],
   "source": [
    "#for和while的使用：数字的遍历\n",
    "for  i  in range(5):\n",
    "    print(f\"这次遍历的是数字{i}\")\n",
    "for i in range(2,6):\n",
    "    print(f\"这次是通过range函数的指定范围，遍历的是数字{i}\")\n",
    "for i in range(0,10,2):\n",
    "    print(f\"这次是通过range函数的指定步长，遍历的是数字{i}\")"
   ]
  },
  {
   "cell_type": "code",
   "execution_count": null,
   "metadata": {},
   "outputs": [],
   "source": [
    "#for和while的使用：字符窜的遍历\n",
    "i = 1\n",
    "for str in \"Hello\":\n",
    "    print(f\"这次遍历的是字符串的第{i}个字符，第{i}个字符为{str}\")\n",
    "    i += 1\n",
    "fruits = [\"apple\", \"banana\", \"cherry\"]\n",
    "for fruit in fruits:\n",
    "    print(f\"这次遍历的是列表的第{i}个水果，第{i}个水果为{fruit}\")\n",
    "for index,fruit in enumerate(fruits):\n",
    "    print(f\"这次遍历的是列表的第{index}个水果，第{index}个水果为{fruit}\")         "
   ]
  },
  {
   "cell_type": "code",
   "execution_count": 18,
   "metadata": {},
   "outputs": [
    {
     "name": "stdout",
     "output_type": "stream",
     "text": [
      "我找到了城市的name,城市的name为北京\n"
     ]
    }
   ],
   "source": [
    "#遍历字典\n",
    "city = {\"name\": \"北京\", \"population\": 2153.2, \"country\": \"中国\"}\n",
    "for key,value in city.items():\n",
    "    if key == \"name\":\n",
    "        print(f\"我找到了城市的{key},城市的{key}为{value}\")"
   ]
  },
  {
   "cell_type": "code",
   "execution_count": null,
   "metadata": {},
   "outputs": [],
   "source": [
    "#字典推导式\n",
    "squares = {x: x**2 for x in range(5)}\n",
    "print(squares)\n",
    "matrix = [[1,2,3],[4,5,6],[7,8,9]]\n",
    "\n",
    "\n",
    "\n",
    "#集合推导式\n",
    "squares = {x**2 for x in range(5)}\n",
    "print(squares)\n",
    "\n",
    "\n",
    "matrix = [[1,2,3],[4,5,6],[7,8,9]]\n",
    "flattened = [num for row in matrix for num in row]\n",
    "print(flattened)\n",
    "\n",
    "\n",
    "#元组推导式\n",
    "squares = tuple(x**2 for x in range(5))\n",
    "print(squares)"
   ]
  },
  {
   "cell_type": "code",
   "execution_count": null,
   "metadata": {},
   "outputs": [],
   "source": [
    "def maxValue(value1,value2):\n",
    "    if value1 > value2:\n",
    "        return value1\n",
    "    else:\n",
    "        return value2\n",
    "print(maxValue(1,2))"
   ]
  },
  {
   "cell_type": "code",
   "execution_count": 10,
   "metadata": {},
   "outputs": [
    {
     "name": "stdout",
     "output_type": "stream",
     "text": [
      "[1, 4, 9, 16, 25]\n"
     ]
    }
   ],
   "source": [
    "#map的用法\n",
    "nums = [1,2,3,4,5]\n",
    "numsBymap = list(map(lambda X:X**2,nums))\n",
    "print(numsBymap)"
   ]
  },
  {
   "cell_type": "code",
   "execution_count": null,
   "metadata": {},
   "outputs": [],
   "source": [
    "#filter的用法\n",
    "nums = [1,2,3,4,5]\n",
    "numsByfilter = list(filter(lambda x:x%2==0,nums))\n",
    "print(numsByfilter)"
   ]
  },
  {
   "cell_type": "code",
   "execution_count": null,
   "metadata": {},
   "outputs": [],
   "source": [
    "#reduce的用法\n",
    "from functools import reduce\n",
    "nums = [ i for i in range(1,101)]\n",
    "print(nums)\n",
    "numsByreduce = reduce(lambda x,y:x*y,nums)\n",
    "print(numsByreduce)"
   ]
  }
 ],
 "metadata": {
  "kernelspec": {
   "display_name": "studypytorch",
   "language": "python",
   "name": "python3"
  },
  "language_info": {
   "codemirror_mode": {
    "name": "ipython",
    "version": 3
   },
   "file_extension": ".py",
   "mimetype": "text/x-python",
   "name": "python",
   "nbconvert_exporter": "python",
   "pygments_lexer": "ipython3",
   "version": "3.8.20"
  }
 },
 "nbformat": 4,
 "nbformat_minor": 2
}
