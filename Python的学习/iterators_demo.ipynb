{
  "cells": [
    {
      "cell_type": "raw",
      "metadata": {
        "vscode": {
          "languageId": "raw"
        }
      },
      "source": [
        "# Python 迭代器对象特性演示\n",
        "\n",
        "我们将演示 `map()`、`filter()` 和 `reduce()` 这三个函数返回的迭代器对象的特性。它们都具有：\n",
        "1. 惰性计算\n",
        "2. 只能遍历一次\n",
        "3. 需要转换为列表才能多次使用\n"
      ]
    },
    {
      "cell_type": "code",
      "execution_count": null,
      "metadata": {},
      "outputs": [],
      "source": [
        "# 1. map()示例\n",
        "numbers = [1, 2, 3, 4, 5]\n",
        "\n",
        "# 创建map对象\n",
        "squared = map(lambda x: x**2, numbers)\n",
        "\n",
        "# 检查对象类型\n",
        "print(\"map对象的类型:\", type(squared))\n",
        "print(\"是否是可迭代对象:\", hasattr(squared, '__iter__'))\n",
        "\n",
        "# 第一次遍历\n",
        "print(\"\\nmap第一次遍历:\")\n",
        "for num in squared:\n",
        "    print(num)\n",
        "\n",
        "# 第二次遍历（将没有输出）\n",
        "print(\"\\nmap第二次遍历（没有输出）:\")\n",
        "for num in squared:\n",
        "    print(num)\n",
        "\n",
        "# 创建新的map对象并转换为列表以便多次使用\n",
        "squared_list = list(map(lambda x: x**2, numbers))\n",
        "print(\"\\n转换为列表后可以多次使用:\")\n",
        "print(\"第一次:\", squared_list)\n",
        "print(\"第二次:\", squared_list)\n"
      ]
    },
    {
      "cell_type": "code",
      "execution_count": null,
      "metadata": {},
      "outputs": [],
      "source": [
        "# 2. filter()示例\n",
        "numbers = [1, 2, 3, 4, 5, 6, 7, 8, 9, 10]\n",
        "\n",
        "# 创建filter对象（筛选偶数）\n",
        "evens = filter(lambda x: x % 2 == 0, numbers)\n",
        "\n",
        "# 检查对象类型\n",
        "print(\"filter对象的类型:\", type(evens))\n",
        "print(\"是否是可迭代对象:\", hasattr(evens, '__iter__'))\n",
        "\n",
        "# 第一次遍历\n",
        "print(\"\\nfilter第一次遍历:\")\n",
        "for num in evens:\n",
        "    print(num)\n",
        "\n",
        "# 第二次遍历（将没有输出）\n",
        "print(\"\\nfilter第二次遍历（没有输出）:\")\n",
        "for num in evens:\n",
        "    print(num)\n",
        "\n",
        "# 创建新的filter对象并转换为列表\n",
        "evens_list = list(filter(lambda x: x % 2 == 0, numbers))\n",
        "print(\"\\n转换为列表后可以多次使用:\")\n",
        "print(\"第一次:\", evens_list)\n",
        "print(\"第二次:\", evens_list)\n"
      ]
    },
    {
      "cell_type": "code",
      "execution_count": null,
      "metadata": {},
      "outputs": [],
      "source": [
        "# 3. reduce()示例\n",
        "from functools import reduce\n",
        "\n",
        "numbers = [1, 2, 3, 4, 5]\n",
        "\n",
        "# reduce()比较特殊，它直接返回计算结果，不是迭代器\n",
        "# 它会把列表中的所有元素依次进行操作，最终得到一个值\n",
        "result = reduce(lambda x, y: x + y, numbers)\n",
        "print(\"reduce计算结果:\", result)\n",
        "\n",
        "# 演示reduce的工作过程\n",
        "def print_step(x, y):\n",
        "    print(f\"当前x={x}, y={y}, x+y={x+y}\")\n",
        "    return x + y\n",
        "\n",
        "print(\"\\nreduce工作过程:\")\n",
        "reduce(print_step, numbers)\n",
        "\n",
        "# reduce的实际应用示例\n",
        "# 1. 计算阶乘\n",
        "factorial = reduce(lambda x, y: x * y, range(1, 6))  # 5!\n",
        "print(\"\\n5的阶乘:\", factorial)\n",
        "\n",
        "# 2. 将列表转换为单个字符串\n",
        "words = ['Hello', 'World', 'Python']\n",
        "sentence = reduce(lambda x, y: x + ' ' + y, words)\n",
        "print(\"连接字符串:\", sentence)\n"
      ]
    }
  ],
  "metadata": {
    "language_info": {
      "name": "python"
    }
  },
  "nbformat": 4,
  "nbformat_minor": 2
}
