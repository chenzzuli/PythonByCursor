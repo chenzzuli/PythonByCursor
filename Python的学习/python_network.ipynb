{
  "cells": [
    {
      "cell_type": "raw",
      "metadata": {
        "vscode": {
          "languageId": "raw"
        }
      },
      "source": [
        "# Python网络编程基础\n",
        "\n",
        "## 1. 网络编程基本概念\n",
        "- TCP/IP协议\n",
        "- Socket（套接字）\n",
        "- 客户端/服务器模型\n",
        "- IP地址和端口\n",
        "- HTTP协议基础\n",
        "\n",
        "## 2. 学习内容\n",
        "1. Socket编程\n",
        "2. HTTP请求处理\n",
        "3. 网络服务器开发\n",
        "4. 常用网络库使用\n"
      ]
    },
    {
      "cell_type": "raw",
      "metadata": {
        "vscode": {
          "languageId": "raw"
        }
      },
      "source": [
        "## 1. Socket编程基础\n",
        "\n",
        "Socket（套接字）是网络编程的基础，它提供了两个计算机之间的通信机制。\n",
        "\n",
        "### 主要概念：\n",
        "1. **IP地址**：标识网络中的计算机\n",
        "2. **端口号**：标识计算机中的应用程序\n",
        "3. **协议**：TCP（可靠传输）和UDP（快速传输）\n",
        "\n",
        "### Socket类型：\n",
        "1. **TCP Socket**：面向连接，可靠性高\n",
        "2. **UDP Socket**：无连接，速度快\n"
      ]
    },
    {
      "cell_type": "code",
      "execution_count": null,
      "metadata": {},
      "outputs": [],
      "source": [
        "# 示例1：TCP服务器\n",
        "import socket\n",
        "\n",
        "def start_tcp_server():\n",
        "    # 创建TCP socket\n",
        "    server_socket = socket.socket(socket.AF_INET, socket.SOCK_STREAM)\n",
        "    \n",
        "    # 绑定地址和端口\n",
        "    server_socket.bind(('localhost', 8888))\n",
        "    \n",
        "    # 开始监听，最大连接数为5\n",
        "    server_socket.listen(5)\n",
        "    print(\"服务器启动，等待连接...\")\n",
        "    \n",
        "    try:\n",
        "        while True:\n",
        "            # 接受客户端连接\n",
        "            client_socket, address = server_socket.accept()\n",
        "            print(f\"客户端 {address} 已连接\")\n",
        "            \n",
        "            # 接收数据\n",
        "            data = client_socket.recv(1024).decode('utf-8')\n",
        "            print(f\"收到数据: {data}\")\n",
        "            \n",
        "            # 发送响应\n",
        "            response = f\"服务器已收到: {data}\"\n",
        "            client_socket.send(response.encode('utf-8'))\n",
        "            \n",
        "            # 关闭客户端连接\n",
        "            client_socket.close()\n",
        "            \n",
        "    except KeyboardInterrupt:\n",
        "        print(\"\\n服务器关闭\")\n",
        "    finally:\n",
        "        server_socket.close()\n",
        "\n",
        "if __name__ == '__main__':\n",
        "    start_tcp_server()\n"
      ]
    },
    {
      "cell_type": "code",
      "execution_count": null,
      "metadata": {},
      "outputs": [],
      "source": [
        "# 示例2：TCP客户端\n",
        "import socket\n",
        "\n",
        "def start_tcp_client():\n",
        "    # 创建TCP socket\n",
        "    client_socket = socket.socket(socket.AF_INET, socket.SOCK_STREAM)\n",
        "    \n",
        "    try:\n",
        "        # 连接服务器\n",
        "        client_socket.connect(('localhost', 8888))\n",
        "        print(\"已连接到服务器\")\n",
        "        \n",
        "        # 发送数据\n",
        "        message = \"Hello, Server!\"\n",
        "        client_socket.send(message.encode('utf-8'))\n",
        "        \n",
        "        # 接收响应\n",
        "        response = client_socket.recv(1024).decode('utf-8')\n",
        "        print(f\"服务器响应: {response}\")\n",
        "        \n",
        "    except ConnectionRefusedError:\n",
        "        print(\"无法连接到服务器，请确保服务器正在运行\")\n",
        "    finally:\n",
        "        client_socket.close()\n",
        "\n",
        "if __name__ == '__main__':\n",
        "    start_tcp_client()\n"
      ]
    },
    {
      "cell_type": "raw",
      "metadata": {
        "vscode": {
          "languageId": "raw"
        }
      },
      "source": [
        "## 2. HTTP编程基础\n",
        "\n",
        "HTTP是最常用的网络协议之一，Python提供了多种方式处理HTTP请求：\n",
        "\n",
        "1. **urllib**: Python标准库，基础的HTTP客户端\n",
        "2. **requests**: 第三方库，更简单易用\n",
        "3. **http.server**: 用于创建简单的HTTP服务器\n"
      ]
    },
    {
      "cell_type": "code",
      "execution_count": 1,
      "metadata": {},
      "outputs": [
        {
          "name": "stdout",
          "output_type": "stream",
          "text": [
            "发送GET请求...\n",
            "状态码: 200\n",
            "响应头: {'Date': 'Mon, 16 Jun 2025 13:20:18 GMT', 'Content-Type': 'application/json; charset=utf-8', 'Cache-Control': 'public, max-age=60, s-maxage=60', 'Vary': 'Accept,Accept-Encoding, Accept, X-Requested-With', 'ETag': 'W/\"4f825cc84e1c733059d46e76e6df9db557ae5254f9625dfe8e1b09499c449438\"', 'X-GitHub-Media-Type': 'github.v3; format=json', 'x-github-api-version-selected': '2022-11-28', 'Access-Control-Expose-Headers': 'ETag, Link, Location, Retry-After, X-GitHub-OTP, X-RateLimit-Limit, X-RateLimit-Remaining, X-RateLimit-Used, X-RateLimit-Resource, X-RateLimit-Reset, X-OAuth-Scopes, X-Accepted-OAuth-Scopes, X-Poll-Interval, X-GitHub-Media-Type, X-GitHub-SSO, X-GitHub-Request-Id, Deprecation, Sunset', 'Access-Control-Allow-Origin': '*', 'Strict-Transport-Security': 'max-age=31536000; includeSubdomains; preload', 'X-Frame-Options': 'deny', 'X-Content-Type-Options': 'nosniff', 'X-XSS-Protection': '0', 'Referrer-Policy': 'origin-when-cross-origin, strict-origin-when-cross-origin', 'Content-Security-Policy': \"default-src 'none'\", 'Content-Encoding': 'gzip', 'Server': 'github.com', 'Accept-Ranges': 'bytes', 'X-RateLimit-Limit': '60', 'X-RateLimit-Remaining': '58', 'X-RateLimit-Reset': '1750081545', 'X-RateLimit-Resource': 'core', 'X-RateLimit-Used': '2', 'Content-Length': '510', 'X-GitHub-Request-Id': '1D96:C4CAD:26E135:2CDA00:68501A12'}\n",
            "\n",
            "发送POST请求...\n",
            "状态码: 200\n",
            "响应内容: {'args': {}, 'data': '{\"key\": \"value\"}', 'files': {}, 'form': {}, 'headers': {'Accept': '*/*', 'Accept-Encoding': 'gzip, deflate, br, zstd', 'Content-Length': '16', 'Content-Type': 'application/json', 'Host': 'httpbin.org', 'User-Agent': 'python-requests/2.32.3', 'X-Amzn-Trace-Id': 'Root=1-68501a13-17e7a64e2e613182536423b8'}, 'json': {'key': 'value'}, 'origin': '125.42.214.45', 'url': 'https://httpbin.org/post'}\n",
            "\n",
            "发送带参数的GET请求...\n",
            "状态码: 200\n",
            "查询URL: https://api.github.com/search/repositories?q=python&sort=stars\n"
          ]
        }
      ],
      "source": [
        "# 示例3：使用requests库发送HTTP请求\n",
        "import requests\n",
        "\n",
        "def http_requests_demo():\n",
        "    # GET请求\n",
        "    print(\"发送GET请求...\")\n",
        "    response = requests.get('https://api.github.com')\n",
        "    print(f\"状态码: {response.status_code}\")\n",
        "    print(f\"响应头: {dict(response.headers)}\\n\")\n",
        "    \n",
        "    # POST请求\n",
        "    print(\"发送POST请求...\")\n",
        "    data = {'key': 'value'}\n",
        "    response = requests.post('https://httpbin.org/post', json=data)\n",
        "    print(f\"状态码: {response.status_code}\")\n",
        "    print(f\"响应内容: {response.json()}\\n\")\n",
        "    \n",
        "    # 带参数的GET请求\n",
        "    print(\"发送带参数的GET请求...\")\n",
        "    params = {'q': 'python', 'sort': 'stars'}\n",
        "    response = requests.get('https://api.github.com/search/repositories', \n",
        "                          params=params)\n",
        "    print(f\"状态码: {response.status_code}\")\n",
        "    print(f\"查询URL: {response.url}\")\n",
        "\n",
        "if __name__ == '__main__':\n",
        "    http_requests_demo()\n"
      ]
    },
    {
      "cell_type": "code",
      "execution_count": null,
      "metadata": {},
      "outputs": [],
      "source": [
        "# 示例4：创建简单的HTTP服务器\n",
        "from http.server import HTTPServer, BaseHTTPRequestHandler\n",
        "import json\n",
        "\n",
        "class SimpleHTTPRequestHandler(BaseHTTPRequestHandler):\n",
        "    def do_GET(self):\n",
        "        # 处理GET请求\n",
        "        if self.path == '/':\n",
        "            # 设置响应头\n",
        "            self.send_response(200)\n",
        "            self.send_header('Content-type', 'text/html')\n",
        "            self.end_headers()\n",
        "            \n",
        "            # 发送响应内容\n",
        "            content = \"\"\"\n",
        "            <html>\n",
        "                <body>\n",
        "                    <h1>欢迎访问Python HTTP服务器</h1>\n",
        "                    <p>这是一个简单的演示页面</p>\n",
        "                </body>\n",
        "            </html>\n",
        "            \"\"\"\n",
        "            self.wfile.write(content.encode('utf-8'))\n",
        "            \n",
        "        elif self.path == '/api/data':\n",
        "            # 返回JSON数据\n",
        "            self.send_response(200)\n",
        "            self.send_header('Content-type', 'application/json')\n",
        "            self.end_headers()\n",
        "            \n",
        "            data = {\n",
        "                'message': '这是API响应',\n",
        "                'status': 'success'\n",
        "            }\n",
        "            self.wfile.write(json.dumps(data).encode('utf-8'))\n",
        "            \n",
        "        else:\n",
        "            # 处理404错误\n",
        "            self.send_response(404)\n",
        "            self.send_header('Content-type', 'text/plain')\n",
        "            self.end_headers()\n",
        "            self.wfile.write('404 Not Found'.encode('utf-8'))\n",
        "\n",
        "def run_server(port=8000):\n",
        "    server_address = ('', port)\n",
        "    httpd = HTTPServer(server_address, SimpleHTTPRequestHandler)\n",
        "    print(f\"服务器运行在 http://localhost:{port}/\")\n",
        "    httpd.serve_forever()\n",
        "\n",
        "if __name__ == '__main__':\n",
        "    run_server()\n"
      ]
    },
    {
      "cell_type": "raw",
      "metadata": {
        "vscode": {
          "languageId": "raw"
        }
      },
      "source": [
        "## 3. 实际应用场景\n",
        "\n",
        "### 1. 网络爬虫\n",
        "- 抓取网页数据\n",
        "- API接口调用\n",
        "- 数据采集\n",
        "\n",
        "### 2. Web服务\n",
        "- REST API开发\n",
        "- 微服务架构\n",
        "- 网站后端开发\n",
        "\n",
        "### 3. 网络监控\n",
        "- 服务器监控\n",
        "- 网络状态检测\n",
        "- 日志收集\n",
        "\n",
        "### 4. 即时通讯\n",
        "- 聊天应用\n",
        "- 消息推送\n",
        "- 实时数据传输\n",
        "\n",
        "## 注意事项\n",
        "1. **错误处理**\n",
        "   - 网络连接异常\n",
        "   - 超时处理\n",
        "   - 数据格式错误\n",
        "\n",
        "2. **安全性**\n",
        "   - 数据加密\n",
        "   - 身份验证\n",
        "   - 防止攻击\n",
        "\n",
        "3. **性能优化**\n",
        "   - 连接池\n",
        "   - 异步处理\n",
        "   - 负载均衡\n"
      ]
    }
  ],
  "metadata": {
    "kernelspec": {
      "display_name": "studypytorch",
      "language": "python",
      "name": "python3"
    },
    "language_info": {
      "codemirror_mode": {
        "name": "ipython",
        "version": 3
      },
      "file_extension": ".py",
      "mimetype": "text/x-python",
      "name": "python",
      "nbconvert_exporter": "python",
      "pygments_lexer": "ipython3",
      "version": "3.8.20"
    }
  },
  "nbformat": 4,
  "nbformat_minor": 2
}
