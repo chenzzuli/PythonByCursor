{
  "cells": [
    {
      "cell_type": "raw",
      "metadata": {
        "vscode": {
          "languageId": "raw"
        }
      },
      "source": [
        "# SciPy Installation Test\n",
        "\n",
        "This notebook will verify that SciPy is correctly installed and working in your environment.\n"
      ]
    },
    {
      "cell_type": "code",
      "execution_count": null,
      "metadata": {},
      "outputs": [],
      "source": [
        "import numpy as np\n",
        "import scipy\n",
        "from scipy import optimize\n",
        "\n",
        "print(f\"SciPy version: {scipy.__version__}\")\n",
        "print(f\"NumPy version: {np.__version__}\")\n",
        "\n",
        "# Let's test a simple optimization problem\n",
        "def f(x):\n",
        "    return (x[0] - 1)**2 + (x[1] - 2)**2\n",
        "\n",
        "# Starting point\n",
        "x0 = np.array([0, 0])\n",
        "\n",
        "# Minimize the function\n",
        "result = optimize.minimize(f, x0)\n",
        "\n",
        "print(\"\\nOptimization test result:\")\n",
        "print(f\"Success: {result.success}\")\n",
        "print(f\"Solution: x = {result.x[0]:.2f}, y = {result.x[1]:.2f}\")\n",
        "print(f\"Expected solution: x = 1.00, y = 2.00\")\n"
      ]
    }
  ],
  "metadata": {
    "language_info": {
      "name": "python"
    }
  },
  "nbformat": 4,
  "nbformat_minor": 2
}
