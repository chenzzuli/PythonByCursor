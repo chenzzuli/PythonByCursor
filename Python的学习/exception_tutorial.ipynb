{
  "cells": [
    {
      "cell_type": "raw",
      "metadata": {
        "vscode": {
          "languageId": "raw"
        }
      },
      "source": [
        "# Python 异常处理完全教程\n",
        "\n",
        "异常处理是Python中非常重要的一个概念，它可以帮助我们：\n",
        "1. 优雅地处理程序中的错误\n",
        "2. 防止程序崩溃\n",
        "3. 提供更好的用户体验\n",
        "4. 方便程序调试和维护\n",
        "\n",
        "本教程将通过实例详细讲解Python中的异常处理机制。\n"
      ]
    },
    {
      "cell_type": "raw",
      "metadata": {
        "vscode": {
          "languageId": "raw"
        }
      },
      "source": [
        "## 1. 基本的try-except结构\n",
        "\n",
        "最基本的异常处理包含两个部分：\n",
        "- `try`: 放置可能出错的代码\n",
        "- `except`: 处理发生的错误\n",
        "\n",
        "下面是一个简单的例子：\n"
      ]
    },
    {
      "cell_type": "code",
      "execution_count": null,
      "metadata": {},
      "outputs": [],
      "source": [
        "# 不使用异常处理\n",
        "print(\"不使用异常处理的情况：\")\n",
        "number_str = \"abc\"\n",
        "try:\n",
        "    number = int(number_str)  # 这里会出错\n",
        "    print(f\"转换后的数字是：{number}\")\n",
        "except:\n",
        "    print(\"出错了！输入的不是有效的数字\")\n",
        "\n",
        "print(\"\\n使用异常处理的情况：\")\n",
        "# 使用异常处理\n",
        "def convert_to_number(string):\n",
        "    try:\n",
        "        number = int(string)\n",
        "        print(f\"成功将 {string} 转换为数字：{number}\")\n",
        "    except ValueError:\n",
        "        print(f\"错误：'{string}' 不是有效的数字\")\n",
        "\n",
        "# 测试不同的输入\n",
        "convert_to_number(\"123\")    # 正常的数字\n",
        "convert_to_number(\"abc\")    # 字母\n",
        "convert_to_number(\"12.34\")  # 小数\n"
      ]
    },
    {
      "cell_type": "raw",
      "metadata": {
        "vscode": {
          "languageId": "raw"
        }
      },
      "source": [
        "## 2. 处理多个异常\n",
        "\n",
        "在实际编程中，我们常常需要处理多种不同类型的异常。Python允许我们为不同类型的异常定义不同的处理方式。\n"
      ]
    },
    {
      "cell_type": "code",
      "execution_count": null,
      "metadata": {},
      "outputs": [],
      "source": [
        "def divide_numbers(a, b):\n",
        "    try:\n",
        "        # 尝试将输入转换为数字并进行除法运算\n",
        "        num1 = float(a)\n",
        "        num2 = float(b)\n",
        "        result = num1 / num2\n",
        "        print(f\"{num1} 除以 {num2} 的结果是：{result}\")\n",
        "        \n",
        "    except ValueError:\n",
        "        # 处理输入不是数字的情况\n",
        "        print(\"错误：请确保输入的是数字\")\n",
        "        \n",
        "    except ZeroDivisionError:\n",
        "        # 处理除数为零的情况\n",
        "        print(\"错误：除数不能为零\")\n",
        "        \n",
        "    except Exception as e:\n",
        "        # 处理其他所有异常\n",
        "        print(f\"发生了其他错误：{str(e)}\")\n",
        "\n",
        "# 测试不同的情况\n",
        "print(\"测试1：正常除法\")\n",
        "divide_numbers(\"10\", \"2\")\n",
        "\n",
        "print(\"\\n测试2：除数为零\")\n",
        "divide_numbers(\"10\", \"0\")\n",
        "\n",
        "print(\"\\n测试3：输入非数字\")\n",
        "divide_numbers(\"abc\", \"2\")\n",
        "\n",
        "print(\"\\n测试4：输入特殊字符\")\n",
        "divide_numbers(\"10\", \"@\")\n"
      ]
    },
    {
      "cell_type": "raw",
      "metadata": {
        "vscode": {
          "languageId": "raw"
        }
      },
      "source": [
        "## 3. 完整的异常处理结构\n",
        "\n",
        "Python的异常处理还包括 `else` 和 `finally` 子句：\n",
        "- `else`: 当try块中的代码成功执行时运行\n",
        "- `finally`: 无论是否发生异常都会执行\n",
        "\n",
        "这在处理文件操作时特别有用：\n"
      ]
    },
    {
      "cell_type": "code",
      "execution_count": null,
      "metadata": {},
      "outputs": [],
      "source": [
        "def read_file(filename):\n",
        "    try:\n",
        "        # 尝试打开和读取文件\n",
        "        file = open(filename, 'r', encoding='utf-8')\n",
        "        content = file.read()\n",
        "        \n",
        "    except FileNotFoundError:\n",
        "        print(f\"错误：文件 '{filename}' 不存在\")\n",
        "        \n",
        "    except PermissionError:\n",
        "        print(f\"错误：没有权限读取文件 '{filename}'\")\n",
        "        \n",
        "    else:\n",
        "        # 文件成功读取后执行\n",
        "        print(\"文件内容：\")\n",
        "        print(content)\n",
        "        \n",
        "    finally:\n",
        "        # 无论如何都要执行的清理代码\n",
        "        print(\"执行清理操作...\")\n",
        "        if 'file' in locals():\n",
        "            file.close()\n",
        "            print(\"文件已关闭\")\n",
        "\n",
        "# 测试不同的情况\n",
        "print(\"测试1：读取不存在的文件\")\n",
        "read_file(\"不存在的文件.txt\")\n",
        "\n",
        "# 创建一个测试文件\n",
        "with open(\"test.txt\", \"w\", encoding='utf-8') as f:\n",
        "    f.write(\"这是测试文件的内容\\n第二行内容\")\n",
        "\n",
        "print(\"\\n测试2：读取存在的文件\")\n",
        "read_file(\"test.txt\")\n"
      ]
    },
    {
      "cell_type": "raw",
      "metadata": {
        "vscode": {
          "languageId": "raw"
        }
      },
      "source": [
        "## 4. 自定义异常\n",
        "\n",
        "有时候，Python的内置异常可能无法准确描述我们的特定错误情况。这时，我们可以创建自定义异常类：\n"
      ]
    },
    {
      "cell_type": "code",
      "execution_count": null,
      "metadata": {},
      "outputs": [],
      "source": [
        "# 定义自定义异常\n",
        "class AgeError(Exception):\n",
        "    \"\"\"当年龄值不合法时抛出的异常\"\"\"\n",
        "    def __init__(self, age, message=\"年龄值不合法\"):\n",
        "        self.age = age\n",
        "        self.message = message\n",
        "        super().__init__(self.message)\n",
        "\n",
        "class Person:\n",
        "    def __init__(self, name):\n",
        "        self.name = name\n",
        "        self._age = 0\n",
        "    \n",
        "    @property\n",
        "    def age(self):\n",
        "        return self._age\n",
        "    \n",
        "    @age.setter\n",
        "    def age(self, value):\n",
        "        try:\n",
        "            # 检查年龄是否合法\n",
        "            if not isinstance(value, (int, float)):\n",
        "                raise TypeError(\"年龄必须是数字\")\n",
        "            \n",
        "            if value < 0:\n",
        "                raise AgeError(value, \"年龄不能为负数\")\n",
        "            \n",
        "            if value > 150:\n",
        "                raise AgeError(value, \"年龄不能超过150岁\")\n",
        "            \n",
        "            self._age = value\n",
        "            print(f\"成功设置 {self.name} 的年龄为 {value}\")\n",
        "            \n",
        "        except TypeError as e:\n",
        "            print(f\"错误：{str(e)}\")\n",
        "        except AgeError as e:\n",
        "            print(f\"错误：{e.message} (输入值：{e.age})\")\n",
        "\n",
        "# 测试自定义异常\n",
        "person = Person(\"小明\")\n",
        "\n",
        "print(\"测试1：设置正常年龄\")\n",
        "person.age = 25\n",
        "\n",
        "print(\"\\n测试2：设置负数年龄\")\n",
        "person.age = -5\n",
        "\n",
        "print(\"\\n测试3：设置过大的年龄\")\n",
        "person.age = 200\n",
        "\n",
        "print(\"\\n测试4：设置非数字年龄\")\n",
        "person.age = \"二十\"\n"
      ]
    },
    {
      "cell_type": "raw",
      "metadata": {
        "vscode": {
          "languageId": "raw"
        }
      },
      "source": [
        "## 5. 实际应用：银行账户系统\n",
        "\n",
        "下面是一个更复杂的例子，展示了如何在实际应用中使用异常处理：\n"
      ]
    },
    {
      "cell_type": "code",
      "execution_count": null,
      "metadata": {},
      "outputs": [],
      "source": [
        "# 自定义异常\n",
        "class InsufficientFundsError(Exception):\n",
        "    \"\"\"余额不足时抛出的异常\"\"\"\n",
        "    def __init__(self, balance, amount):\n",
        "        self.balance = balance\n",
        "        self.amount = amount\n",
        "        self.message = f\"余额不足：当前余额 {balance}，请求金额 {amount}\"\n",
        "        super().__init__(self.message)\n",
        "\n",
        "class InvalidAmountError(Exception):\n",
        "    \"\"\"金额无效时抛出的异常\"\"\"\n",
        "    def __init__(self, amount, message=\"无效的金额\"):\n",
        "        self.amount = amount\n",
        "        self.message = message\n",
        "        super().__init__(self.message)\n",
        "\n",
        "# 银行账户类\n",
        "class BankAccount:\n",
        "    def __init__(self, owner, initial_balance=0):\n",
        "        self.owner = owner\n",
        "        self._balance = initial_balance\n",
        "        self._transaction_history = []\n",
        "    \n",
        "    @property\n",
        "    def balance(self):\n",
        "        return self._balance\n",
        "    \n",
        "    def deposit(self, amount):\n",
        "        try:\n",
        "            # 验证存款金额\n",
        "            if not isinstance(amount, (int, float)):\n",
        "                raise InvalidAmountError(amount, \"存款金额必须是数字\")\n",
        "            \n",
        "            if amount <= 0:\n",
        "                raise InvalidAmountError(amount, \"存款金额必须大于0\")\n",
        "            \n",
        "            # 执行存款\n",
        "            self._balance += amount\n",
        "            self._transaction_history.append(f\"存款: +{amount}\")\n",
        "            return f\"成功存款 {amount}，当前余额：{self._balance}\"\n",
        "            \n",
        "        except InvalidAmountError as e:\n",
        "            self._transaction_history.append(f\"存款失败: {e.message}\")\n",
        "            return f\"存款失败：{e.message}\"\n",
        "    \n",
        "    def withdraw(self, amount):\n",
        "        try:\n",
        "            # 验证取款金额\n",
        "            if not isinstance(amount, (int, float)):\n",
        "                raise InvalidAmountError(amount, \"取款金额必须是数字\")\n",
        "            \n",
        "            if amount <= 0:\n",
        "                raise InvalidAmountError(amount, \"取款金额必须大于0\")\n",
        "            \n",
        "            if amount > self._balance:\n",
        "                raise InsufficientFundsError(self._balance, amount)\n",
        "            \n",
        "            # 执行取款\n",
        "            self._balance -= amount\n",
        "            self._transaction_history.append(f\"取款: -{amount}\")\n",
        "            return f\"成功取款 {amount}，当前余额：{self._balance}\"\n",
        "            \n",
        "        except (InvalidAmountError, InsufficientFundsError) as e:\n",
        "            self._transaction_history.append(f\"取款失败: {e.message}\")\n",
        "            return f\"取款失败：{e.message}\"\n",
        "    \n",
        "    def get_transaction_history(self):\n",
        "        return \"\\n\".join(self._transaction_history)\n",
        "\n",
        "# 测试银行账户系统\n",
        "account = BankAccount(\"张三\", 1000)\n",
        "\n",
        "print(\"测试1：正常存款\")\n",
        "print(account.deposit(500))\n",
        "\n",
        "print(\"\\n测试2：存入负数\")\n",
        "print(account.deposit(-100))\n",
        "\n",
        "print(\"\\n测试3：存入非数字\")\n",
        "print(account.deposit(\"一百\"))\n",
        "\n",
        "print(\"\\n测试4：正常取款\")\n",
        "print(account.withdraw(300))\n",
        "\n",
        "print(\"\\n测试5：取款金额过大\")\n",
        "print(account.withdraw(2000))\n",
        "\n",
        "print(\"\\n查看交易历史：\")\n",
        "print(account.get_transaction_history())\n"
      ]
    },
    {
      "cell_type": "raw",
      "metadata": {
        "vscode": {
          "languageId": "raw"
        }
      },
      "source": [
        "## 总结\n",
        "\n",
        "Python的异常处理机制提供了一种优雅的方式来处理程序中可能出现的错误：\n",
        "\n",
        "1. 基本结构：\n",
        "   - `try`: 放置可能出错的代码\n",
        "   - `except`: 处理特定类型的异常\n",
        "   - `else`: 当try块成功执行时运行\n",
        "   - `finally`: 无论是否发生异常都会执行\n",
        "\n",
        "2. 最佳实践：\n",
        "   - 只捕获预期的异常\n",
        "   - 提供有意义的错误信息\n",
        "   - 正确使用finally清理资源\n",
        "   - 适当使用自定义异常\n",
        "\n",
        "3. 常见的内置异常：\n",
        "   - `ValueError`: 值错误\n",
        "   - `TypeError`: 类型错误\n",
        "   - `FileNotFoundError`: 文件不存在\n",
        "   - `ZeroDivisionError`: 除以零\n",
        "   - `IndexError`: 索引超出范围\n",
        "   - `KeyError`: 字典键不存在\n",
        "\n",
        "4. 自定义异常：\n",
        "   - 继承自 `Exception` 类\n",
        "   - 提供有意义的错误信息\n",
        "   - 可以添加额外的属性来提供更多信息\n",
        "\n",
        "通过合理使用异常处理，我们可以：\n",
        "1. 使程序更加健壮\n",
        "2. 提供更好的用户体验\n",
        "3. 方便调试和维护\n",
        "4. 优雅地处理错误情况\n"
      ]
    }
  ],
  "metadata": {
    "language_info": {
      "name": "python"
    }
  },
  "nbformat": 4,
  "nbformat_minor": 2
}
